{
 "cells": [
  {
   "cell_type": "markdown",
   "metadata": {},
   "source": [
    "Problem 1"
   ]
  },
  {
   "cell_type": "code",
   "execution_count": 30,
   "metadata": {},
   "outputs": [
    {
     "name": "stdout",
     "output_type": "stream",
     "text": [
      "\n",
      "loaded mnist data!\n",
      "test_data (10000, 784)\n",
      "training_data (60000, 784)\n",
      "training_labels (60000, 1)\n",
      "\n",
      "loaded spam data!\n",
      "test_data (5857, 32)\n",
      "training_data (5172, 32)\n",
      "training_labels (5172, 1)\n",
      "\n",
      "loaded cifar10 data!\n",
      "test_data (10000, 3072)\n",
      "training_data (50000, 3072)\n",
      "training_labels (50000, 1)\n"
     ]
    }
   ],
   "source": [
    "import sys\n",
    "if sys.version_info[0] < 3:\n",
    "    raise Exception(\"Python 3 not detected.\")\n",
    "import numpy as np\n",
    "import matplotlib.pyplot as plt\n",
    "from sklearn import svm\n",
    "from scipy import io\n",
    "for data_name in [\"mnist\", \"spam\", \"cifar10\"]:\n",
    "    \n",
    "    data = io.loadmat(\"data/%s_data.mat\" % data_name)\n",
    "    print(\"\\nloaded %s data!\" % data_name)\n",
    "    fields = \"test_data\", \"training_data\", \"training_labels\"\n",
    "    for field in fields:\n",
    "        print(field, data[field].shape)"
   ]
  },
  {
   "cell_type": "markdown",
   "metadata": {},
   "source": [
    "\\pagebreak"
   ]
  },
  {
   "cell_type": "markdown",
   "metadata": {},
   "source": [
    "Problem 2:"
   ]
  },
  {
   "cell_type": "code",
   "execution_count": 31,
   "metadata": {},
   "outputs": [],
   "source": [
    "mnist = io.loadmat(\"data/mnist_data.mat\")\n",
    "spam = io.loadmat(\"data/spam_data.mat\")\n",
    "cifar10 = io.loadmat(\"data/cifar10_data.mat\")"
   ]
  },
  {
   "cell_type": "code",
   "execution_count": 32,
   "metadata": {},
   "outputs": [],
   "source": [
    "def train_val_split(data, split_val):\n",
    "    np.random.seed(42)\n",
    "    np.random.shuffle(data)\n",
    "    train = data[:split_val]\n",
    "    validation = data[split_val:]\n",
    "    return train, validation"
   ]
  },
  {
   "cell_type": "code",
   "execution_count": 33,
   "metadata": {},
   "outputs": [],
   "source": [
    "mnist_train, mnist_validation = train_val_split(mnist['training_data'], 50000)\n",
    "mnist_train_labels, mnist_validation_labels = train_val_split(mnist['training_labels'], 50000)\n",
    "\n",
    "spam_train, spam_validation = train_val_split(spam['training_data'], 5172 - 5172//5)\n",
    "spam_train_labels, spam_validation_labels = train_val_split(spam['training_labels'], 5172 - 5172//5)\n",
    "\n",
    "cifar10_train, cifar10_validation = train_val_split(cifar10['training_data'], 45000)\n",
    "cifar10_train_labels, cifar10_validation_labels = train_val_split(cifar10['training_labels'], 45000)\n",
    "#run this cell once"
   ]
  },
  {
   "cell_type": "markdown",
   "metadata": {},
   "source": [
    "\\pagebreak"
   ]
  },
  {
   "cell_type": "markdown",
   "metadata": {},
   "source": [
    "Problem 3:"
   ]
  },
  {
   "cell_type": "code",
   "execution_count": 34,
   "metadata": {},
   "outputs": [],
   "source": [
    "from sklearn.metrics import accuracy_score"
   ]
  },
  {
   "cell_type": "code",
   "execution_count": 35,
   "metadata": {},
   "outputs": [],
   "source": [
    "def train_examples(train, labels, size, model):\n",
    "    train_example = train[:size]\n",
    "    labels_example = np.ravel(labels[:size])\n",
    "    model.fit(train_example, labels_example)\n",
    "    prediction = model.predict(train_example)\n",
    "    return accuracy_score(labels_example, prediction)"
   ]
  },
  {
   "cell_type": "code",
   "execution_count": 36,
   "metadata": {},
   "outputs": [
    {
     "name": "stdout",
     "output_type": "stream",
     "text": [
      "[1. 1. 1. 1. 1. 1. 1.]\n",
      "[0.7814 0.8386 0.8622 0.8809 0.895  0.9052 0.9119]\n"
     ]
    }
   ],
   "source": [
    "example_sizes = [100, 200, 500, 1000, 2000, 5000, 10000]\n",
    "mnist_train_accuracies = []\n",
    "mnist_validation_accuracies = []\n",
    "for size in example_sizes:\n",
    "    mnist_model = svm.SVC(kernel='linear')\n",
    "    \n",
    "    train_accuracy = train_examples(mnist_train, mnist_train_labels, size, mnist_model)\n",
    "    mnist_train_accuracies = np.append(mnist_train_accuracies, train_accuracy)\n",
    "    \n",
    "    mnist_validation_pred = mnist_model.predict(mnist_validation)\n",
    "    mnist_validation_acc = accuracy_score(mnist_validation_labels, mnist_validation_pred)\n",
    "    mnist_validation_accuracies = np.append(mnist_validation_accuracies, mnist_validation_acc)\n",
    "    \n",
    "print(mnist_train_accuracies)\n",
    "print(mnist_validation_accuracies)"
   ]
  },
  {
   "cell_type": "code",
   "execution_count": 37,
   "metadata": {},
   "outputs": [
    {
     "data": {
      "image/png": "[encoded data removed]",
      "text/plain": [
       "<Figure size 576x432 with 1 Axes>"
      ]
     },
     "metadata": {
      "needs_background": "light"
     },
     "output_type": "display_data"
    }
   ],
   "source": [
    "plt.figure(figsize=(8,6))\n",
    "plt.plot(example_sizes, mnist_train_accuracies, label=\"training accuracy\")\n",
    "plt.plot(example_sizes, mnist_validation_accuracies, label=\"validation accuracy\")\n",
    "plt.legend()\n",
    "plt.title(\"Training and Validation Accuracies vs. Training Example Sizes for MNIST\")\n",
    "plt.xlabel('Training Example Size')\n",
    "plt.ylabel('Accuracy');"
   ]
  },
  {
   "cell_type": "code",
   "execution_count": 38,
   "metadata": {},
   "outputs": [
    {
     "name": "stdout",
     "output_type": "stream",
     "text": [
      "[0.87      0.84      0.814     0.801     0.7975    0.7962784]\n",
      "[0.7794971  0.81431335 0.82978723 0.81914894 0.82205029 0.82301741]\n"
     ]
    }
   ],
   "source": [
    "spam_example_sizes = [100, 200, 500, 1000, 2000, len(spam_train)]\n",
    "spam_train_accuracies = []\n",
    "spam_validation_accuracies = []\n",
    "for size in spam_example_sizes:\n",
    "    spam_model = svm.SVC(kernel='linear')\n",
    "    \n",
    "    train_accuracy = train_examples(spam_train, spam_train_labels, size, spam_model)\n",
    "    spam_train_accuracies = np.append(spam_train_accuracies, train_accuracy)\n",
    "    \n",
    "    spam_validation_pred = spam_model.predict(spam_validation)\n",
    "    spam_validation_acc = accuracy_score(spam_validation_labels, spam_validation_pred)\n",
    "    spam_validation_accuracies = np.append(spam_validation_accuracies, spam_validation_acc)\n",
    "    \n",
    "print(spam_train_accuracies)\n",
    "print(spam_validation_accuracies)"
   ]
  },
  {
   "cell_type": "code",
   "execution_count": 39,
   "metadata": {},
   "outputs": [
    {
     "data": {
      "image/png": "[encoded data removed]",
      "text/plain": [
       "<Figure size 576x432 with 1 Axes>"
      ]
     },
     "metadata": {
      "needs_background": "light"
     },
     "output_type": "display_data"
    }
   ],
   "source": [
    "plt.figure(figsize=(8,6))\n",
    "plt.plot(spam_example_sizes, spam_train_accuracies, label=\"training accuracy\")\n",
    "plt.plot(spam_example_sizes, spam_validation_accuracies, label=\"validation accuracy\")\n",
    "plt.legend()\n",
    "plt.title(\"Training and Validation Accuracies vs. Training Example Sizes for SPAM\")\n",
    "plt.xlabel('Training Example Size')\n",
    "plt.ylabel('Accuracy');"
   ]
  },
  {
   "cell_type": "code",
   "execution_count": 40,
   "metadata": {},
   "outputs": [
    {
     "name": "stdout",
     "output_type": "stream",
     "text": [
      "[1. 1. 1. 1. 1. 1.]\n",
      "[0.2206 0.2546 0.2714 0.2826 0.3044 0.309 ]\n"
     ]
    }
   ],
   "source": [
    "cifar10_example_sizes = [100, 200, 500, 1000, 2000, 5000]\n",
    "cifar10_train_accuracies = []\n",
    "cifar10_validation_accuracies = []\n",
    "for size in cifar10_example_sizes:\n",
    "    cifar10_model = svm.SVC(kernel='linear') \n",
    "    \n",
    "    train_accuracy = train_examples(cifar10_train, cifar10_train_labels, size, cifar10_model)\n",
    "    cifar10_train_accuracies = np.append(cifar10_train_accuracies, train_accuracy)\n",
    "    \n",
    "    cifar10_validation_pred = cifar10_model.predict(cifar10_validation)\n",
    "    cifar10_validation_acc = accuracy_score(cifar10_validation_labels, cifar10_validation_pred)\n",
    "    cifar10_validation_accuracies = np.append(cifar10_validation_accuracies, cifar10_validation_acc)\n",
    "    \n",
    "print(cifar10_train_accuracies)\n",
    "print(cifar10_validation_accuracies)"
   ]
  },
  {
   "cell_type": "code",
   "execution_count": 41,
   "metadata": {},
   "outputs": [
    {
     "data": {
      "image/png": "[encoded data removed]",
      "text/plain": [
       "<Figure size 576x432 with 1 Axes>"
      ]
     },
     "metadata": {
      "needs_background": "light"
     },
     "output_type": "display_data"
    }
   ],
   "source": [
    "plt.figure(figsize=(8,6))\n",
    "plt.plot(cifar10_example_sizes, cifar10_train_accuracies, label=\"training accuracy\")\n",
    "plt.plot(cifar10_example_sizes, cifar10_validation_accuracies, label=\"validation accuracy\")\n",
    "plt.legend()\n",
    "plt.title(\"Training and Validation Accuracies vs. Training Example Sizes for CIFAR10\")\n",
    "plt.xlabel('Training Example Size')\n",
    "plt.ylabel('Accuracy');"
   ]
  },
  {
   "cell_type": "markdown",
   "metadata": {},
   "source": [
    "\\pagebreak"
   ]
  },
  {
   "cell_type": "markdown",
   "metadata": {},
   "source": [
    "Problem 4"
   ]
  },
  {
   "cell_type": "code",
   "execution_count": 42,
   "metadata": {},
   "outputs": [
    {
     "name": "stdout",
     "output_type": "stream",
     "text": [
      "[1. 1. 1. 1. 1. 1. 1.]\n",
      "[0.7814 0.8386 0.8622 0.8809 0.895  0.9052 0.9119]\n"
     ]
    }
   ],
   "source": [
    "hyper_param_example_sizes = [100, 200, 500, 1000, 2000, 5000, 10000]\n",
    "mnist_train_param_accuracies = []\n",
    "mnist_validation_param_accuracies = []\n",
    "for size in hyper_param_example_sizes:\n",
    "    mnist_param_model = svm.SVC(kernel='linear', C=.1)\n",
    "    \n",
    "    train_accuracy = train_examples(mnist_train, mnist_train_labels, size, mnist_param_model)\n",
    "    mnist_train_param_accuracies = np.append(mnist_train_param_accuracies, train_accuracy)\n",
    "    \n",
    "    mnist_validation_pred = mnist_param_model.predict(mnist_validation)\n",
    "    mnist_validation_acc = accuracy_score(mnist_validation_labels, mnist_validation_pred)\n",
    "    mnist_validation_param_accuracies = np.append(mnist_validation_param_accuracies, mnist_validation_acc)\n",
    "    \n",
    "print(mnist_train_param_accuracies)\n",
    "print(mnist_validation_param_accuracies)"
   ]
  },
  {
   "cell_type": "code",
   "execution_count": 43,
   "metadata": {},
   "outputs": [
    {
     "name": "stdout",
     "output_type": "stream",
     "text": [
      "[0.76   0.89   0.906  0.909  0.924  0.9328 0.9373]\n",
      "[0.5357 0.7529 0.8421 0.8751 0.8903 0.911  0.9201]\n"
     ]
    }
   ],
   "source": [
    "hyper_param_example_sizes = [100, 200, 500, 1000, 2000, 5000, 10000]\n",
    "mnist_train_param_accuracies = []\n",
    "mnist_validation_param_accuracies = []\n",
    "for size in hyper_param_example_sizes:\n",
    "    mnist_param_model = svm.SVC(kernel='linear', C=.0000001)\n",
    "    \n",
    "    train_accuracy = train_examples(mnist_train, mnist_train_labels, size, mnist_param_model)\n",
    "    mnist_train_param_accuracies = np.append(mnist_train_param_accuracies, train_accuracy)\n",
    "    \n",
    "    mnist_validation_pred = mnist_param_model.predict(mnist_validation)\n",
    "    mnist_validation_acc = accuracy_score(mnist_validation_labels, mnist_validation_pred)\n",
    "    mnist_validation_param_accuracies = np.append(mnist_validation_param_accuracies, mnist_validation_acc)\n",
    "    \n",
    "print(mnist_train_param_accuracies)\n",
    "print(mnist_validation_param_accuracies)"
   ]
  },
  {
   "cell_type": "code",
   "execution_count": 44,
   "metadata": {},
   "outputs": [
    {
     "name": "stdout",
     "output_type": "stream",
     "text": [
      "[1. 1. 1. 1. 1. 1. 1.]\n",
      "[0.7814 0.8386 0.8622 0.8809 0.895  0.9052 0.9119]\n"
     ]
    }
   ],
   "source": [
    "hyper_param_example_sizes = [100, 200, 500, 1000, 2000, 5000, 10000]\n",
    "mnist_train_param_accuracies = []\n",
    "mnist_validation_param_accuracies = []\n",
    "for size in hyper_param_example_sizes:\n",
    "    mnist_param_model = svm.SVC(kernel='linear', C=1000000)\n",
    "    \n",
    "    train_accuracy = train_examples(mnist_train, mnist_train_labels, size, mnist_param_model)\n",
    "    mnist_train_param_accuracies = np.append(mnist_train_param_accuracies, train_accuracy)\n",
    "    \n",
    "    mnist_validation_pred = mnist_param_model.predict(mnist_validation)\n",
    "    mnist_validation_acc = accuracy_score(mnist_validation_labels, mnist_validation_pred)\n",
    "    mnist_validation_param_accuracies = np.append(mnist_validation_param_accuracies, mnist_validation_acc)\n",
    "    \n",
    "print(mnist_train_param_accuracies)\n",
    "print(mnist_validation_param_accuracies)"
   ]
  },
  {
   "cell_type": "code",
   "execution_count": 45,
   "metadata": {},
   "outputs": [
    {
     "name": "stdout",
     "output_type": "stream",
     "text": [
      "[0.13   0.13   0.12   0.113  0.1095 0.302  0.6671]\n",
      "[0.0971 0.1005 0.0971 0.1005 0.1038 0.2951 0.6691]\n"
     ]
    }
   ],
   "source": [
    "hyper_param_example_sizes = [100, 200, 500, 1000, 2000, 5000, 10000]\n",
    "mnist_train_param_accuracies = []\n",
    "mnist_validation_param_accuracies = []\n",
    "for size in hyper_param_example_sizes:\n",
    "    mnist_param_model = svm.SVC(kernel='linear', C=.000000001)\n",
    "    \n",
    "    train_accuracy = train_examples(mnist_train, mnist_train_labels, size, mnist_param_model)\n",
    "    mnist_train_param_accuracies = np.append(mnist_train_param_accuracies, train_accuracy)\n",
    "    \n",
    "    mnist_validation_pred = mnist_param_model.predict(mnist_validation)\n",
    "    mnist_validation_acc = accuracy_score(mnist_validation_labels, mnist_validation_pred)\n",
    "    mnist_validation_param_accuracies = np.append(mnist_validation_param_accuracies, mnist_validation_acc)\n",
    "    \n",
    "print(mnist_train_param_accuracies)\n",
    "print(mnist_validation_param_accuracies)"
   ]
  },
  {
   "cell_type": "code",
   "execution_count": 46,
   "metadata": {},
   "outputs": [
    {
     "name": "stdout",
     "output_type": "stream",
     "text": [
      "[0.13   0.13   0.306  0.62   0.7985 0.8748 0.8975]\n",
      "[0.0971 0.1005 0.2781 0.5981 0.7902 0.8677 0.8888]\n"
     ]
    }
   ],
   "source": [
    "hyper_param_example_sizes = [100, 200, 500, 1000, 2000, 5000, 10000]\n",
    "mnist_train_param_accuracies = []\n",
    "mnist_validation_param_accuracies = []\n",
    "for size in hyper_param_example_sizes:\n",
    "    mnist_param_model = svm.SVC(kernel='linear', C=.00000001)\n",
    "    \n",
    "    train_accuracy = train_examples(mnist_train, mnist_train_labels, size, mnist_param_model)\n",
    "    mnist_train_param_accuracies = np.append(mnist_train_param_accuracies, train_accuracy)\n",
    "    \n",
    "    mnist_validation_pred = mnist_param_model.predict(mnist_validation)\n",
    "    mnist_validation_acc = accuracy_score(mnist_validation_labels, mnist_validation_pred)\n",
    "    mnist_validation_param_accuracies = np.append(mnist_validation_param_accuracies, mnist_validation_acc)\n",
    "    \n",
    "print(mnist_train_param_accuracies)\n",
    "print(mnist_validation_param_accuracies)"
   ]
  },
  {
   "cell_type": "code",
   "execution_count": 51,
   "metadata": {},
   "outputs": [
    {
     "name": "stdout",
     "output_type": "stream",
     "text": [
      "[1.     1.     0.998  0.992  0.983  0.9752 0.9678]\n",
      "[0.7816 0.8386 0.864  0.8845 0.9033 0.9182 0.9297]\n"
     ]
    }
   ],
   "source": [
    "hyper_param_example_sizes = [100, 200, 500, 1000, 2000, 5000, 10000]\n",
    "mnist_train_param_accuracies = []\n",
    "mnist_validation_param_accuracies = []\n",
    "for size in hyper_param_example_sizes:\n",
    "    mnist_param_model = svm.SVC(kernel='linear', C=.000001)\n",
    "    \n",
    "    train_accuracy = train_examples(mnist_train, mnist_train_labels, size, mnist_param_model)\n",
    "    mnist_train_param_accuracies = np.append(mnist_train_param_accuracies, train_accuracy)\n",
    "    \n",
    "    mnist_validation_pred = mnist_param_model.predict(mnist_validation)\n",
    "    mnist_validation_acc = accuracy_score(mnist_validation_labels, mnist_validation_pred)\n",
    "    mnist_validation_param_accuracies = np.append(mnist_validation_param_accuracies, mnist_validation_acc)\n",
    "    \n",
    "print(mnist_train_param_accuracies)\n",
    "print(mnist_validation_param_accuracies)"
   ]
  },
  {
   "cell_type": "code",
   "execution_count": 48,
   "metadata": {},
   "outputs": [
    {
     "name": "stdout",
     "output_type": "stream",
     "text": [
      "[1.     1.     1.     1.     1.     0.9994 0.9959]\n",
      "[0.7814 0.8386 0.8622 0.8809 0.8947 0.9053 0.9178]\n"
     ]
    }
   ],
   "source": [
    "hyper_param_example_sizes = [100, 200, 500, 1000, 2000, 5000, 10000]\n",
    "mnist_train_param_accuracies = []\n",
    "mnist_validation_param_accuracies = []\n",
    "for size in hyper_param_example_sizes:\n",
    "    mnist_param_model = svm.SVC(kernel='linear', C=.00001)\n",
    "    \n",
    "    train_accuracy = train_examples(mnist_train, mnist_train_labels, size, mnist_param_model)\n",
    "    mnist_train_param_accuracies = np.append(mnist_train_param_accuracies, train_accuracy)\n",
    "    \n",
    "    mnist_validation_pred = mnist_param_model.predict(mnist_validation)\n",
    "    mnist_validation_acc = accuracy_score(mnist_validation_labels, mnist_validation_pred)\n",
    "    mnist_validation_param_accuracies = np.append(mnist_validation_param_accuracies, mnist_validation_acc)\n",
    "    \n",
    "print(mnist_train_param_accuracies)\n",
    "print(mnist_validation_param_accuracies)"
   ]
  },
  {
   "cell_type": "code",
   "execution_count": 49,
   "metadata": {},
   "outputs": [
    {
     "name": "stdout",
     "output_type": "stream",
     "text": [
      "[1.     1.     1.     1.     0.9995 0.997  0.9903]\n",
      "[0.7814 0.8386 0.8622 0.8809 0.8947 0.9071 0.9207]\n"
     ]
    }
   ],
   "source": [
    "hyper_param_example_sizes = [100, 200, 500, 1000, 2000, 5000, 10000]\n",
    "mnist_train_param_accuracies = []\n",
    "mnist_validation_param_accuracies = []\n",
    "for size in hyper_param_example_sizes:\n",
    "    mnist_param_model = svm.SVC(kernel='linear', C=.000005)\n",
    "    \n",
    "    train_accuracy = train_examples(mnist_train, mnist_train_labels, size, mnist_param_model)\n",
    "    mnist_train_param_accuracies = np.append(mnist_train_param_accuracies, train_accuracy)\n",
    "    \n",
    "    mnist_validation_pred = mnist_param_model.predict(mnist_validation)\n",
    "    mnist_validation_acc = accuracy_score(mnist_validation_labels, mnist_validation_pred)\n",
    "    mnist_validation_param_accuracies = np.append(mnist_validation_param_accuracies, mnist_validation_acc)\n",
    "    \n",
    "print(mnist_train_param_accuracies)\n",
    "print(mnist_validation_param_accuracies)"
   ]
  },
  {
   "cell_type": "code",
   "execution_count": 50,
   "metadata": {},
   "outputs": [
    {
     "name": "stdout",
     "output_type": "stream",
     "text": [
      "[1.     1.     1.     1.     0.996  0.987  0.9782]\n",
      "[0.7814 0.839  0.8628 0.8827 0.8997 0.9149 0.9245]\n"
     ]
    }
   ],
   "source": [
    "hyper_param_example_sizes = [100, 200, 500, 1000, 2000, 5000, 10000]\n",
    "mnist_train_param_accuracies = []\n",
    "mnist_validation_param_accuracies = []\n",
    "for size in hyper_param_example_sizes:\n",
    "    mnist_param_model = svm.SVC(kernel='linear', C=.000002)\n",
    "    \n",
    "    train_accuracy = train_examples(mnist_train, mnist_train_labels, size, mnist_param_model)\n",
    "    mnist_train_param_accuracies = np.append(mnist_train_param_accuracies, train_accuracy)\n",
    "    \n",
    "    mnist_validation_pred = mnist_param_model.predict(mnist_validation)\n",
    "    mnist_validation_acc = accuracy_score(mnist_validation_labels, mnist_validation_pred)\n",
    "    mnist_validation_param_accuracies = np.append(mnist_validation_param_accuracies, mnist_validation_acc)\n",
    "    \n",
    "print(mnist_train_param_accuracies)\n",
    "print(mnist_validation_param_accuracies)"
   ]
  },
  {
   "cell_type": "code",
   "execution_count": 52,
   "metadata": {},
   "outputs": [
    {
     "name": "stdout",
     "output_type": "stream",
     "text": [
      "C values tried and the respective validation accuracies when trained on different training \n",
      "example sizes up to 10,000 for MNIST: \n",
      "\n",
      "C = .1: \n",
      "[0.7814 0.8386 0.8622 0.8809 0.895  0.9052 0.9119]\n",
      "\n",
      "C = 0000001: \n",
      "      [0.5357 0.7529 0.8421 0.8751 0.8903 0.911  0.9201]\n",
      "\n",
      "C = 1000000: \n",
      "      [0.7814 0.8386 0.8622 0.8809 0.895  0.9052 0.9119]\n",
      "\n",
      "C = .000000001: \n",
      "      [0.0971 0.1005 0.0971 0.1005 0.1038 0.2951 0.6691]\n",
      "\n",
      "C = .00000001: \n",
      "      [0.0971 0.1005 0.2781 0.5981 0.7902 0.8677 0.8888]\n",
      "\n",
      "C = .000001: \n",
      "      [0.7816 0.8386 0.864  0.8845 0.9033 0.9182 0.9297]\n",
      "\n",
      "C = .00001: \n",
      "      [0.7814 0.8386 0.8622 0.8809 0.8947 0.9053 0.9178]\n",
      "\n",
      "C = .000005: \n",
      "      [0.7814 0.8386 0.8622 0.8809 0.8947 0.9071 0.9207]\n",
      "\n",
      "C=.000002: \n",
      "      [0.7814 0.839  0.8628 0.8827 0.8997 0.9149 0.9245]\n",
      "\n",
      "The best value of C found was .000001, with validation accuracy of .9297 when trained on 10,000 samples.\n"
     ]
    }
   ],
   "source": [
    "print('''C values tried and the respective validation accuracies when trained on different training \n",
    "example sizes up to 10,000 for MNIST: ''')\n",
    "print()\n",
    "print('''C = .1: \n",
    "[0.7814 0.8386 0.8622 0.8809 0.895  0.9052 0.9119]''')\n",
    "print()\n",
    "print('''C = 0000001: \n",
    "      [0.5357 0.7529 0.8421 0.8751 0.8903 0.911  0.9201]''')\n",
    "print()\n",
    "print('''C = 1000000: \n",
    "      [0.7814 0.8386 0.8622 0.8809 0.895  0.9052 0.9119]''')\n",
    "print()\n",
    "print('''C = .000000001: \n",
    "      [0.0971 0.1005 0.0971 0.1005 0.1038 0.2951 0.6691]''')\n",
    "print()\n",
    "print('''C = .00000001: \n",
    "      [0.0971 0.1005 0.2781 0.5981 0.7902 0.8677 0.8888]''')\n",
    "print()\n",
    "print('''C = .000001: \n",
    "      [0.7816 0.8386 0.864  0.8845 0.9033 0.9182 0.9297]''')\n",
    "print()\n",
    "print('''C = .00001: \n",
    "      [0.7814 0.8386 0.8622 0.8809 0.8947 0.9053 0.9178]''')\n",
    "print()\n",
    "print('''C = .000005: \n",
    "      [0.7814 0.8386 0.8622 0.8809 0.8947 0.9071 0.9207]''')\n",
    "print()\n",
    "print('''C=.000002: \n",
    "      [0.7814 0.839  0.8628 0.8827 0.8997 0.9149 0.9245]''')\n",
    "print()\n",
    "print('The best value of C found was .000001, with validation accuracy of .9297 when trained on 10,000 samples.')"
   ]
  },
  {
   "cell_type": "markdown",
   "metadata": {},
   "source": [
    "\\pagebreak"
   ]
  },
  {
   "cell_type": "markdown",
   "metadata": {},
   "source": [
    "Problem 5"
   ]
  },
  {
   "cell_type": "code",
   "execution_count": 53,
   "metadata": {},
   "outputs": [],
   "source": [
    "def k_fold_validate(train_data, labels, k):\n",
    "    np.random.seed(42)\n",
    "    np.random.shuffle(train_data)\n",
    "    np.random.seed(42)\n",
    "    np.random.shuffle(labels)\n",
    "    split_train = np.array_split(train_data, k)\n",
    "    split_labels = np.array_split(labels, k)\n",
    "    return split_train, split_labels"
   ]
  },
  {
   "cell_type": "code",
   "execution_count": 54,
   "metadata": {},
   "outputs": [],
   "source": [
    "k5_spam_train, k5_spam_labels = k_fold_validate(spam['training_data'], spam['training_labels'], 5)\n",
    "#run this cell once"
   ]
  },
  {
   "cell_type": "code",
   "execution_count": 55,
   "metadata": {},
   "outputs": [
    {
     "data": {
      "text/plain": [
       "0.803177005952214"
      ]
     },
     "execution_count": 55,
     "metadata": {},
     "output_type": "execute_result"
    }
   ],
   "source": [
    "k5_accuracy = []\n",
    "for i in np.arange(5):\n",
    "    validation = k5_spam_train[i]\n",
    "    validation_labels = k5_spam_labels[i]\n",
    "    k5_train = []\n",
    "    k5_labels = []\n",
    "    for j in np.arange(5):\n",
    "        if j != i:\n",
    "            if len(k5_train) == 0:\n",
    "                k5_train = k5_spam_train[j]\n",
    "                k5_labels = k5_spam_labels[j]\n",
    "            else:\n",
    "                k5_train = np.concatenate((k5_train, k5_spam_train[j]))\n",
    "                k5_labels = np.concatenate((k5_labels, k5_spam_labels[j]))\n",
    "    k5_model = svm.SVC(kernel='linear')\n",
    "    k5_model.fit(k5_train, np.ravel(k5_labels))\n",
    "    k5_prediction = k5_model.predict(validation)\n",
    "    k5_acc = accuracy_score(validation_labels, k5_prediction)\n",
    "    k5_accuracy = np.append(k5_accuracy, k5_acc)\n",
    "avg_k5_accuracy = np.mean(k5_accuracy)\n",
    "avg_k5_accuracy"
   ]
  },
  {
   "cell_type": "code",
   "execution_count": 56,
   "metadata": {},
   "outputs": [
    {
     "data": {
      "text/plain": [
       "0.7940900213980695"
      ]
     },
     "execution_count": 56,
     "metadata": {},
     "output_type": "execute_result"
    }
   ],
   "source": [
    "k5_accuracy = []\n",
    "for i in np.arange(5):\n",
    "    validation = k5_spam_train[i]\n",
    "    validation_labels = k5_spam_labels[i]\n",
    "    k5_train = []\n",
    "    k5_labels = []\n",
    "    for j in np.arange(5):\n",
    "        if j != i:\n",
    "            if len(k5_train) == 0:\n",
    "                k5_train = k5_spam_train[j]\n",
    "                k5_labels = k5_spam_labels[j]\n",
    "            else:\n",
    "                k5_train = np.concatenate((k5_train, k5_spam_train[j]))\n",
    "                k5_labels = np.concatenate((k5_labels, k5_spam_labels[j]))\n",
    "    k5_model = svm.SVC(kernel='linear', C=.1)\n",
    "    k5_model.fit(k5_train, np.ravel(k5_labels))\n",
    "    k5_prediction = k5_model.predict(validation)\n",
    "    k5_acc = accuracy_score(validation_labels, k5_prediction)\n",
    "    k5_accuracy = np.append(k5_accuracy, k5_acc)\n",
    "avg_k5_accuracy = np.mean(k5_accuracy)\n",
    "avg_k5_accuracy"
   ]
  },
  {
   "cell_type": "code",
   "execution_count": 57,
   "metadata": {},
   "outputs": [
    {
     "data": {
      "text/plain": [
       "0.7517472598323662"
      ]
     },
     "execution_count": 57,
     "metadata": {},
     "output_type": "execute_result"
    }
   ],
   "source": [
    "k5_accuracy = []\n",
    "for i in np.arange(5):\n",
    "    validation = k5_spam_train[i]\n",
    "    validation_labels = k5_spam_labels[i]\n",
    "    k5_train = []\n",
    "    k5_labels = []\n",
    "    for j in np.arange(5):\n",
    "        if j != i:\n",
    "            if len(k5_train) == 0:\n",
    "                k5_train = k5_spam_train[j]\n",
    "                k5_labels = k5_spam_labels[j]\n",
    "            else:\n",
    "                k5_train = np.concatenate((k5_train, k5_spam_train[j]))\n",
    "                k5_labels = np.concatenate((k5_labels, k5_spam_labels[j]))\n",
    "    k5_model = svm.SVC(kernel='linear', C=.001)\n",
    "    k5_model.fit(k5_train, np.ravel(k5_labels))\n",
    "    k5_prediction = k5_model.predict(validation)\n",
    "    k5_acc = accuracy_score(validation_labels, k5_prediction)\n",
    "    k5_accuracy = np.append(k5_accuracy, k5_acc)\n",
    "avg_k5_accuracy = np.mean(k5_accuracy)\n",
    "avg_k5_accuracy"
   ]
  },
  {
   "cell_type": "code",
   "execution_count": 58,
   "metadata": {},
   "outputs": [
    {
     "name": "stderr",
     "output_type": "stream",
     "text": [
      "/anaconda3/lib/python3.7/site-packages/sklearn/svm/base.py:922: ConvergenceWarning: Liblinear failed to converge, increase the number of iterations.\n",
      "  \"the number of iterations.\", ConvergenceWarning)\n",
      "/anaconda3/lib/python3.7/site-packages/sklearn/svm/base.py:922: ConvergenceWarning: Liblinear failed to converge, increase the number of iterations.\n",
      "  \"the number of iterations.\", ConvergenceWarning)\n",
      "/anaconda3/lib/python3.7/site-packages/sklearn/svm/base.py:922: ConvergenceWarning: Liblinear failed to converge, increase the number of iterations.\n",
      "  \"the number of iterations.\", ConvergenceWarning)\n",
      "/anaconda3/lib/python3.7/site-packages/sklearn/svm/base.py:922: ConvergenceWarning: Liblinear failed to converge, increase the number of iterations.\n",
      "  \"the number of iterations.\", ConvergenceWarning)\n",
      "/anaconda3/lib/python3.7/site-packages/sklearn/svm/base.py:922: ConvergenceWarning: Liblinear failed to converge, increase the number of iterations.\n",
      "  \"the number of iterations.\", ConvergenceWarning)\n"
     ]
    },
    {
     "data": {
      "text/plain": [
       "0.7836483241293601"
      ]
     },
     "execution_count": 58,
     "metadata": {},
     "output_type": "execute_result"
    }
   ],
   "source": [
    "k5_accuracy = []\n",
    "for i in np.arange(5):\n",
    "    validation = k5_spam_train[i]\n",
    "    validation_labels = k5_spam_labels[i]\n",
    "    k5_train = []\n",
    "    k5_labels = []\n",
    "    for j in np.arange(5):\n",
    "        if j != i:\n",
    "            if len(k5_train) == 0:\n",
    "                k5_train = k5_spam_train[j]\n",
    "                k5_labels = k5_spam_labels[j]\n",
    "            else:\n",
    "                k5_train = np.concatenate((k5_train, k5_spam_train[j]))\n",
    "                k5_labels = np.concatenate((k5_labels, k5_spam_labels[j]))\n",
    "    k5_model = svm.LinearSVC(C=100000)\n",
    "    k5_model.fit(k5_train, np.ravel(k5_labels))\n",
    "    k5_prediction = k5_model.predict(validation)\n",
    "    k5_acc = accuracy_score(validation_labels, k5_prediction)\n",
    "    k5_accuracy = np.append(k5_accuracy, k5_acc)\n",
    "avg_k5_accuracy = np.mean(k5_accuracy)\n",
    "avg_k5_accuracy"
   ]
  },
  {
   "cell_type": "code",
   "execution_count": 59,
   "metadata": {},
   "outputs": [
    {
     "name": "stderr",
     "output_type": "stream",
     "text": [
      "/anaconda3/lib/python3.7/site-packages/sklearn/svm/base.py:922: ConvergenceWarning: Liblinear failed to converge, increase the number of iterations.\n",
      "  \"the number of iterations.\", ConvergenceWarning)\n",
      "/anaconda3/lib/python3.7/site-packages/sklearn/svm/base.py:922: ConvergenceWarning: Liblinear failed to converge, increase the number of iterations.\n",
      "  \"the number of iterations.\", ConvergenceWarning)\n",
      "/anaconda3/lib/python3.7/site-packages/sklearn/svm/base.py:922: ConvergenceWarning: Liblinear failed to converge, increase the number of iterations.\n",
      "  \"the number of iterations.\", ConvergenceWarning)\n",
      "/anaconda3/lib/python3.7/site-packages/sklearn/svm/base.py:922: ConvergenceWarning: Liblinear failed to converge, increase the number of iterations.\n",
      "  \"the number of iterations.\", ConvergenceWarning)\n",
      "/anaconda3/lib/python3.7/site-packages/sklearn/svm/base.py:922: ConvergenceWarning: Liblinear failed to converge, increase the number of iterations.\n",
      "  \"the number of iterations.\", ConvergenceWarning)\n"
     ]
    },
    {
     "data": {
      "text/plain": [
       "0.7519236771040656"
      ]
     },
     "execution_count": 59,
     "metadata": {},
     "output_type": "execute_result"
    }
   ],
   "source": [
    "k5_accuracy = []\n",
    "for i in np.arange(5):\n",
    "    validation = k5_spam_train[i]\n",
    "    validation_labels = k5_spam_labels[i]\n",
    "    k5_train = []\n",
    "    k5_labels = []\n",
    "    for j in np.arange(5):\n",
    "        if j != i:\n",
    "            if len(k5_train) == 0:\n",
    "                k5_train = k5_spam_train[j]\n",
    "                k5_labels = k5_spam_labels[j]\n",
    "            else:\n",
    "                k5_train = np.concatenate((k5_train, k5_spam_train[j]))\n",
    "                k5_labels = np.concatenate((k5_labels, k5_spam_labels[j]))\n",
    "    k5_model = svm.LinearSVC(C=1000)\n",
    "    k5_model.fit(k5_train, np.ravel(k5_labels))\n",
    "    k5_prediction = k5_model.predict(validation)\n",
    "    k5_acc = accuracy_score(validation_labels, k5_prediction)\n",
    "    k5_accuracy = np.append(k5_accuracy, k5_acc)\n",
    "avg_k5_accuracy = np.mean(k5_accuracy)\n",
    "avg_k5_accuracy"
   ]
  },
  {
   "cell_type": "code",
   "execution_count": 60,
   "metadata": {},
   "outputs": [
    {
     "name": "stderr",
     "output_type": "stream",
     "text": [
      "/anaconda3/lib/python3.7/site-packages/sklearn/svm/base.py:922: ConvergenceWarning: Liblinear failed to converge, increase the number of iterations.\n",
      "  \"the number of iterations.\", ConvergenceWarning)\n",
      "/anaconda3/lib/python3.7/site-packages/sklearn/svm/base.py:922: ConvergenceWarning: Liblinear failed to converge, increase the number of iterations.\n",
      "  \"the number of iterations.\", ConvergenceWarning)\n",
      "/anaconda3/lib/python3.7/site-packages/sklearn/svm/base.py:922: ConvergenceWarning: Liblinear failed to converge, increase the number of iterations.\n",
      "  \"the number of iterations.\", ConvergenceWarning)\n",
      "/anaconda3/lib/python3.7/site-packages/sklearn/svm/base.py:922: ConvergenceWarning: Liblinear failed to converge, increase the number of iterations.\n",
      "  \"the number of iterations.\", ConvergenceWarning)\n",
      "/anaconda3/lib/python3.7/site-packages/sklearn/svm/base.py:922: ConvergenceWarning: Liblinear failed to converge, increase the number of iterations.\n",
      "  \"the number of iterations.\", ConvergenceWarning)\n"
     ]
    },
    {
     "data": {
      "text/plain": [
       "0.8227026976518189"
      ]
     },
     "execution_count": 60,
     "metadata": {},
     "output_type": "execute_result"
    }
   ],
   "source": [
    "k5_accuracy = []\n",
    "for i in np.arange(5):\n",
    "    validation = k5_spam_train[i]\n",
    "    validation_labels = k5_spam_labels[i]\n",
    "    k5_train = []\n",
    "    k5_labels = []\n",
    "    for j in np.arange(5):\n",
    "        if j != i:\n",
    "            if len(k5_train) == 0:\n",
    "                k5_train = k5_spam_train[j]\n",
    "                k5_labels = k5_spam_labels[j]\n",
    "            else:\n",
    "                k5_train = np.concatenate((k5_train, k5_spam_train[j]))\n",
    "                k5_labels = np.concatenate((k5_labels, k5_spam_labels[j]))\n",
    "    k5_model = svm.LinearSVC(C=100)\n",
    "    k5_model.fit(k5_train, np.ravel(k5_labels))\n",
    "    k5_prediction = k5_model.predict(validation)\n",
    "    k5_acc = accuracy_score(validation_labels, k5_prediction)\n",
    "    k5_accuracy = np.append(k5_accuracy, k5_acc)\n",
    "avg_k5_accuracy = np.mean(k5_accuracy)\n",
    "avg_k5_accuracy"
   ]
  },
  {
   "cell_type": "code",
   "execution_count": 61,
   "metadata": {},
   "outputs": [
    {
     "data": {
      "text/plain": [
       "0.8047242078509423"
      ]
     },
     "execution_count": 61,
     "metadata": {},
     "output_type": "execute_result"
    }
   ],
   "source": [
    "k5_accuracy = []\n",
    "for i in np.arange(5):\n",
    "    validation = k5_spam_train[i]\n",
    "    validation_labels = k5_spam_labels[i]\n",
    "    k5_train = []\n",
    "    k5_labels = []\n",
    "    for j in np.arange(5):\n",
    "        if j != i:\n",
    "            if len(k5_train) == 0:\n",
    "                k5_train = k5_spam_train[j]\n",
    "                k5_labels = k5_spam_labels[j]\n",
    "            else:\n",
    "                k5_train = np.concatenate((k5_train, k5_spam_train[j]))\n",
    "                k5_labels = np.concatenate((k5_labels, k5_spam_labels[j]))\n",
    "    k5_model = svm.SVC(kernel='linear', C=10)\n",
    "    k5_model.fit(k5_train, np.ravel(k5_labels))\n",
    "    k5_prediction = k5_model.predict(validation)\n",
    "    k5_acc = accuracy_score(validation_labels, k5_prediction)\n",
    "    k5_accuracy = np.append(k5_accuracy, k5_acc)\n",
    "avg_k5_accuracy = np.mean(k5_accuracy)\n",
    "avg_k5_accuracy"
   ]
  },
  {
   "cell_type": "code",
   "execution_count": 62,
   "metadata": {},
   "outputs": [
    {
     "name": "stdout",
     "output_type": "stream",
     "text": [
      "C values tried and the respective validation accuracies when trained using 5-fold cross-validation \n",
      "on SPAM dataset:\n",
      "\n",
      "C = 1:\n",
      "0.803177005952214\n",
      "\n",
      "C = .1:\n",
      "0.7940900213980695\n",
      "\n",
      "C = .001:\n",
      "0.7517472598323662\n",
      "C = 100000\n",
      "0.7836483241293601\n",
      "\n",
      "C = 1000:\n",
      "0.7519236771040656\n",
      "\n",
      "C = 100:\n",
      "0.8227026976518189\n",
      "\n",
      "C = 10:\n",
      "0.8047242078509423\n",
      "\n",
      "The best C value found was C = 100, with accuracy of 0.8227026976518189\n",
      "\n",
      "For values over 10, LinearSVC was used because the SVC model took longer than 10 minutes to fit the data, \n",
      "and since the LinearSVC model did not converge the accuracies were not always repeatable, but still gave a sense \n",
      "of the accuracy range in order to see if C values were increasing or decreasing accuracy.\n"
     ]
    }
   ],
   "source": [
    "print('''C values tried and the respective validation accuracies when trained using 5-fold cross-validation \n",
    "on SPAM dataset:''')\n",
    "print()\n",
    "print('C = 1:')\n",
    "print('0.803177005952214')\n",
    "print()\n",
    "print('C = .1:')\n",
    "print('0.7940900213980695')\n",
    "print()\n",
    "print('C = .001:')\n",
    "print('0.7517472598323662')\n",
    "print('C = 100000')\n",
    "print('0.7836483241293601')\n",
    "print()\n",
    "print('C = 1000:')\n",
    "print('0.7519236771040656')\n",
    "print()\n",
    "print('C = 100:')\n",
    "print('0.8227026976518189')\n",
    "print()\n",
    "print('C = 10:')\n",
    "print('0.8047242078509423')\n",
    "print()\n",
    "print('The best C value found was C = 100, with accuracy of 0.8227026976518189')\n",
    "print()\n",
    "print('''For values over 10, LinearSVC was used because the SVC model took longer than 10 minutes to fit the data, \n",
    "and since the LinearSVC model did not converge the accuracies were not always repeatable, but still gave a sense \n",
    "of the accuracy range in order to see if C values were increasing or decreasing accuracy.''')"
   ]
  },
  {
   "cell_type": "markdown",
   "metadata": {},
   "source": [
    "\\pagebreak"
   ]
  },
  {
   "cell_type": "markdown",
   "metadata": {},
   "source": [
    "Problem 6:"
   ]
  },
  {
   "cell_type": "code",
   "execution_count": 63,
   "metadata": {},
   "outputs": [],
   "source": [
    "def model_prediction(train_data, train_labels, test_data, model, train_data_size):\n",
    "    train_accuracy = train_examples(train_data, train_labels, train_data_size, model)\n",
    "    test_pred = model.predict(test_data)\n",
    "    return test_pred"
   ]
  },
  {
   "cell_type": "code",
   "execution_count": 64,
   "metadata": {},
   "outputs": [
    {
     "name": "stdout",
     "output_type": "stream",
     "text": [
      "0.9385\n"
     ]
    }
   ],
   "source": [
    "mnist_val_prediction = model_prediction(mnist_train, mnist_train_labels, mnist_validation, \n",
    "                                         svm.SVC(kernel='linear', C=.000001), 25000)\n",
    "print(accuracy_score(mnist_validation_labels, mnist_test_prediction))"
   ]
  },
  {
   "cell_type": "code",
   "execution_count": 111,
   "metadata": {},
   "outputs": [
    {
     "name": "stdout",
     "output_type": "stream",
     "text": [
      "0.8278529980657641\n"
     ]
    },
    {
     "name": "stderr",
     "output_type": "stream",
     "text": [
      "/anaconda3/lib/python3.7/site-packages/sklearn/svm/base.py:922: ConvergenceWarning: Liblinear failed to converge, increase the number of iterations.\n",
      "  \"the number of iterations.\", ConvergenceWarning)\n"
     ]
    }
   ],
   "source": [
    "spam_val_prediction = model_prediction(spam_train, spam_train_labels, spam_validation, \n",
    "                                        svm.LinearSVC(C=100), len(spam_train))\n",
    "print(accuracy_score(spam_validation_labels, spam_val_prediction))"
   ]
  },
  {
   "cell_type": "markdown",
   "metadata": {},
   "source": [
    "Testing CIFAR10 C values:"
   ]
  },
  {
   "cell_type": "code",
   "execution_count": 112,
   "metadata": {},
   "outputs": [
    {
     "name": "stdout",
     "output_type": "stream",
     "text": [
      "0.3556\n"
     ]
    }
   ],
   "source": [
    "cifar10_prediction1 = model_prediction(cifar10_train, cifar10_train_labels, cifar10_validation,\n",
    "                                      svm.SVC(kernel='linear', C=.000001), 5000)\n",
    "print(accuracy_score(cifar10_validation_labels, cifar10_prediction1))"
   ]
  },
  {
   "cell_type": "code",
   "execution_count": 113,
   "metadata": {},
   "outputs": [
    {
     "name": "stdout",
     "output_type": "stream",
     "text": [
      "0.384\n"
     ]
    }
   ],
   "source": [
    "cifar10_prediction2 = model_prediction(cifar10_train, cifar10_train_labels, cifar10_validation,\n",
    "                                      svm.SVC(kernel='linear', C=.0000001), 5000)\n",
    "print(accuracy_score(cifar10_validation_labels, cifar10_prediction2))"
   ]
  },
  {
   "cell_type": "code",
   "execution_count": 114,
   "metadata": {},
   "outputs": [
    {
     "name": "stdout",
     "output_type": "stream",
     "text": [
      "0.309\n"
     ]
    }
   ],
   "source": [
    "cifar10_prediction3 = model_prediction(cifar10_train, cifar10_train_labels, cifar10_validation,\n",
    "                                      svm.SVC(kernel='linear', C=100), 5000)\n",
    "print(accuracy_score(cifar10_validation_labels, cifar10_prediction3))"
   ]
  },
  {
   "cell_type": "code",
   "execution_count": 115,
   "metadata": {},
   "outputs": [
    {
     "name": "stdout",
     "output_type": "stream",
     "text": [
      "0.3598\n"
     ]
    }
   ],
   "source": [
    "cifar10_prediction4 = model_prediction(cifar10_train, cifar10_train_labels, cifar10_validation,\n",
    "                                      svm.SVC(kernel='linear', C=.00000001), 5000)\n",
    "print(accuracy_score(cifar10_validation_labels, cifar10_prediction4))"
   ]
  },
  {
   "cell_type": "code",
   "execution_count": 116,
   "metadata": {},
   "outputs": [
    {
     "name": "stdout",
     "output_type": "stream",
     "text": [
      "0.3814\n"
     ]
    }
   ],
   "source": [
    "cifar10_prediction5 = model_prediction(cifar10_train, cifar10_train_labels, cifar10_validation,\n",
    "                                      svm.SVC(kernel='linear', C=.00000005), 5000)\n",
    "print(accuracy_score(cifar10_validation_labels, cifar10_prediction5))"
   ]
  },
  {
   "cell_type": "code",
   "execution_count": 117,
   "metadata": {},
   "outputs": [
    {
     "name": "stdout",
     "output_type": "stream",
     "text": [
      "0.368\n"
     ]
    }
   ],
   "source": [
    "cifar10_prediction6 = model_prediction(cifar10_train, cifar10_train_labels, cifar10_validation,\n",
    "                                      svm.SVC(kernel='linear', C=.0000005), 5000)\n",
    "print(accuracy_score(cifar10_validation_labels, cifar10_prediction6))"
   ]
  },
  {
   "cell_type": "markdown",
   "metadata": {},
   "source": [
    "Test Predictions:"
   ]
  },
  {
   "cell_type": "code",
   "execution_count": 118,
   "metadata": {},
   "outputs": [],
   "source": [
    "mnist_test_prediction = model_prediction(mnist_train, mnist_train_labels, mnist['test_data'], \n",
    "                                         svm.SVC(kernel='linear', C=.000001), 25000)"
   ]
  },
  {
   "cell_type": "code",
   "execution_count": 119,
   "metadata": {},
   "outputs": [
    {
     "name": "stderr",
     "output_type": "stream",
     "text": [
      "/anaconda3/lib/python3.7/site-packages/sklearn/svm/base.py:922: ConvergenceWarning: Liblinear failed to converge, increase the number of iterations.\n",
      "  \"the number of iterations.\", ConvergenceWarning)\n"
     ]
    }
   ],
   "source": [
    "spam_test_prediction = model_prediction(spam_train, spam_train_labels, spam['test_data'], \n",
    "                                        svm.LinearSVC(C=100), len(spam_train))"
   ]
  },
  {
   "cell_type": "code",
   "execution_count": 120,
   "metadata": {},
   "outputs": [],
   "source": [
    "cifar10_test_prediction = model_prediction(cifar10_train, cifar10_train_labels, cifar10['test_data'],\n",
    "                                      svm.SVC(kernel='linear', C=.0000001), 5000)"
   ]
  },
  {
   "cell_type": "code",
   "execution_count": 126,
   "metadata": {},
   "outputs": [],
   "source": [
    "import pandas as pd\n",
    "import numpy as np\n",
    "\n",
    "def results_to_csv(y_test, name):\n",
    "    y_test = y_test.astype(int)\n",
    "    df = pd.DataFrame({'Category': y_test})\n",
    "    df.index += 1  # Ensures that the index starts at 1. \n",
    "    df.to_csv(name + 'submission.csv', index_label='Id')\n",
    "\n",
    "#from save_csv.py"
   ]
  },
  {
   "cell_type": "code",
   "execution_count": 128,
   "metadata": {},
   "outputs": [],
   "source": [
    "results_to_csv(mnist_test_prediction, 'mnist')"
   ]
  },
  {
   "cell_type": "code",
   "execution_count": 129,
   "metadata": {},
   "outputs": [],
   "source": [
    "results_to_csv(spam_test_prediction, 'spam')"
   ]
  },
  {
   "cell_type": "code",
   "execution_count": 130,
   "metadata": {},
   "outputs": [],
   "source": [
    "results_to_csv(cifar10_test_prediction, 'cifar10')"
   ]
  },
  {
   "cell_type": "code",
   "execution_count": null,
   "metadata": {},
   "outputs": [],
   "source": []
  }
 ],
 "metadata": {
  "kernelspec": {
   "display_name": "Python 3",
   "language": "python",
   "name": "python3"
  },
  "language_info": {
   "codemirror_mode": {
    "name": "ipython",
    "version": 3
   },
   "file_extension": ".py",
   "mimetype": "text/x-python",
   "name": "python",
   "nbconvert_exporter": "python",
   "pygments_lexer": "ipython3",
   "version": "3.7.1"
  }
 },
 "nbformat": 4,
 "nbformat_minor": 2
}
