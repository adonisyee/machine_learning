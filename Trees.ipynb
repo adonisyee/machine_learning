{
 "cells": [
  {
   "cell_type": "markdown",
   "metadata": {},
   "source": [
    "PROBLEM 1"
   ]
  },
  {
   "cell_type": "markdown",
   "metadata": {},
   "source": [
    "1. I ran extractFrames.sh to use ffmpeg on my videos and extract \n",
    "all the frames. Mkdir wasn't working for me in the script for some \n",
    "reason so instead I removed that line, made the directories manually, \n",
    "and then ran it normally."
   ]
  },
  {
   "cell_type": "markdown",
   "metadata": {},
   "source": [
    "2. Output of checkData.py:\n",
    "\n",
    "Running data check script on adonisyee.zip\n",
    "\n",
    "Checking that the compressed file has .zip extension......\n",
    "\n",
    "Passed!\n",
    "\n",
    "Unzipping adonisyee.zip\n",
    "\n",
    "Archive:  adonisyee.zip\n",
    "\n",
    "   creating: adonisyee/\n",
    "   \n",
    "  inflating: adonisyee/.DS_Store     \n",
    "  \n",
    "   creating: adonisyee/labels/\n",
    "   \n",
    "  inflating: adonisyee/labels/lunge_adonisyee.json \n",
    "  \n",
    "replace __MACOSX/adonisyee/labels/._lunge_adonisyee.json? [y]es, [n]o, [A]ll, [N]one, [r]ename: y\n",
    "\n",
    "  inflating: __MACOSX/adonisyee/labels/._lunge_adonisyee.json  \n",
    "  \n",
    "  inflating: adonisyee/labels/.DS_Store  \n",
    "  \n",
    "  inflating: adonisyee/labels/squat_adonisyee.json  \n",
    "  \n",
    "replace __MACOSX/adonisyee/labels/._squat_adonisyee.json? [y]es, [n]o, [A]ll, [N]one, [r]ename: A\n",
    "\n",
    "  inflating: __MACOSX/adonisyee/labels/._squat_adonisyee.json  \n",
    "  \n",
    "  inflating: adonisyee/labels/inline_adonisyee.json  \n",
    "  \n",
    "  inflating: __MACOSX/adonisyee/labels/._inline_adonisyee.json  \n",
    "  \n",
    "  inflating: adonisyee/labels/hamstrings_adonisyee.json  \n",
    "  \n",
    "  inflating: __MACOSX/adonisyee/labels/._hamstrings_adonisyee.json\n",
    "  \n",
    "  inflating: adonisyee/labels/stretch_adonisyee.json  \n",
    "  \n",
    "  inflating: __MACOSX/adonisyee/labels/._stretch_adonisyee.json \n",
    "  \n",
    "  inflating: adonisyee/labels/reach_adonisyee.json  \n",
    "  \n",
    "  inflating: __MACOSX/adonisyee/labels/._reach_adonisyee.json \n",
    "  \n",
    "  inflating: adonisyee/labels/deadbug_adonisyee.json  \n",
    "  inflating: __MACOSX/adonisyee/labels/._deadbug_adonisyee.json\n",
    "  \n",
    "  inflating: adonisyee/labels/export-2019-03-31T02_12_19.175Z.json\n",
    "  \n",
    "  inflating: __MACOSX/adonisyee/labels/._export-2019-03-31T02_12_19.175Z.json\n",
    "  \n",
    "  inflating: adonisyee/labels/pushup_adonisyee.json\n",
    "  \n",
    "  inflating: __MACOSX/adonisyee/labels/._pushup_adonisyee.json\n",
    "  \n",
    "   creating: adonisyee/key_frames/\n",
    "   \n",
    "  inflating: adonisyee/key_frames/hamstring_l.jpg\n",
    "  \n",
    "  inflating: adonisyee/key_frames/.DS_Store\n",
    "  \n",
    "  inflating: adonisyee/key_frames/pushup.jpg\n",
    "  \n",
    "  inflating: __MACOSX/adonisyee/key_frames/._pushup.jpg\n",
    "  \n",
    "  inflating: adonisyee/key_frames/stretch_r.jpg\n",
    "  \n",
    "  inflating: adonisyee/key_frames/lunge_l.jpg\n",
    "  \n",
    "  inflating: adonisyee/key_frames/deadbug_r.jpg\n",
    "  \n",
    "  inflating: adonisyee/key_frames/reach.jpg\n",
    "  \n",
    "  inflating: adonisyee/key_frames/inline_r.jpg\n",
    "  \n",
    "  inflating: adonisyee/key_frames/stretch_l.jpg\n",
    "  \n",
    "  inflating: adonisyee/key_frames/lunge_r.jpg\n",
    "  \n",
    "  inflating: adonisyee/key_frames/deadbug_l.jpg\n",
    "  \n",
    "  inflating: adonisyee/key_frames/inline_l.jpg\n",
    "  \n",
    "  inflating: adonisyee/key_frames/hamstring_r.jpg\n",
    "  \n",
    "  inflating: adonisyee/key_frames/squat.jpg\n",
    "  \n",
    "Checking directory structure of unpacked folder......\n",
    "\n",
    "Passed!\n",
    "\n",
    "Checking key frames......\n",
    "\n",
    "Passed!\n",
    "\n",
    "Checking keypoints label file......\n",
    "\n",
    "Passed!\n",
    "\n",
    "Checking video label files......\n",
    "\n",
    "Checking label file adonisyee/labels/lunge_adonisyee.json\n",
    "\n",
    "Checking label file adonisyee/labels/squat_adonisyee.json\n",
    "\n",
    "Checking label file adonisyee/labels/inline_adonisyee.json\n",
    "\n",
    "Checking label file adonisyee/labels/hamstrings_adonisyee.json\n",
    "\n",
    "Checking label file adonisyee/labels/stretch_adonisyee.json\n",
    "\n",
    "Checking label file adonisyee/labels/reach_adonisyee.json\n",
    "\n",
    "Checking label file adonisyee/labels/deadbug_adonisyee.json\n",
    "\n",
    "Checking label file adonisyee/labels/pushup_adonisyee.json\n",
    "\n",
    "Passed!\n"
   ]
  },
  {
   "cell_type": "markdown",
   "metadata": {},
   "source": [
    "\\pagebreak"
   ]
  },
  {
   "cell_type": "markdown",
   "metadata": {},
   "source": [
    "PROBLEM 2"
   ]
  },
  {
   "cell_type": "markdown",
   "metadata": {},
   "source": [
    "2.1"
   ]
  },
  {
   "cell_type": "code",
   "execution_count": 1327,
   "metadata": {},
   "outputs": [],
   "source": [
    "\"\"\"\n",
    "This is the starter code and some suggested architecture we \n",
    "provide you with. But feel free to do any modifications as you\n",
    "wish or just completely ignore all of them and have your own \n",
    "implementations.\n",
    "\"\"\"\n",
    "from collections import Counter\n",
    "\n",
    "import numpy as np\n",
    "from numpy import genfromtxt\n",
    "import scipy.io\n",
    "from scipy import stats\n",
    "\n",
    "import random\n",
    "\n",
    "\n",
    "class DecisionTree():\n",
    "\n",
    "    def __init__(self, X, y, depth, nsize, features):\n",
    "        \"\"\"\n",
    "        TODO: initialization of a decision tree\n",
    "        \"\"\"\n",
    "        self.X = X\n",
    "        self.y = y\n",
    "        self.features = features\n",
    "        self.split_rule = self.segmenter(self.X, self.y)\n",
    "        self.depth = depth\n",
    "        self.nsize = nsize\n",
    "        self.left = []\n",
    "        self.right = []\n",
    "        self.label = ''\n",
    "        \n",
    "    @staticmethod\n",
    "    def entropy(y):\n",
    "        \"\"\"\n",
    "        TODO: implement a method that calculates the entropy given all the labels\n",
    "        \"\"\"\n",
    "        return scipy.stats.entropy(np.array(list(Counter(y).values())) / len(y),\n",
    "                                   base=2)\n",
    "\n",
    "    @staticmethod\n",
    "    def information_gain(X, y, thresh):\n",
    "        \"\"\"\n",
    "        TODO: implement a method that calculates information \n",
    "        gain given a vector of features\n",
    "        and a split threshold\n",
    "        \"\"\"\n",
    "        H = DecisionTree.entropy(y)\n",
    "        meet_thresh = X < thresh\n",
    "        S_l = y[meet_thresh]\n",
    "        S_r = y[~meet_thresh]\n",
    "        H_Sl = len(S_l)*DecisionTree.entropy(S_l)\n",
    "        H_Sr = len(S_r)*DecisionTree.entropy(S_r)\n",
    "        H_after = (H_Sl + H_Sr)/len(y)\n",
    "        return H - H_after\n",
    "\n",
    "    @staticmethod\n",
    "    def gini_impurity(y):\n",
    "        \"\"\"\n",
    "        TODO: implement a method that calculates the gini \n",
    "        impurity given all the labels\n",
    "        \"\"\"\n",
    "        probs = np.array(list(Counter(y).values()))/len(y)\n",
    "        return np.sum(probs * (1-probs))\n",
    "\n",
    "    @staticmethod\n",
    "    def gini_purification(X, y, thresh):\n",
    "        \"\"\"\n",
    "        TODO: implement a method that calculates reduction in \n",
    "        impurity gain given a vector of features\n",
    "        and a split threshold\n",
    "        \"\"\"\n",
    "        g = DecisionTree.gini_impurity(y)\n",
    "        meet_thresh = X < thresh\n",
    "        S_l = y[meet_thresh]\n",
    "        S_r = y[~meet_thresh]\n",
    "        g_Sl = len(S_l)*DecisionTree.gini_impurity(S_l)\n",
    "        g_Sr = len(S_r)*DecisionTree.gini_impurity(S_r)\n",
    "        g_after = (g_Sl + g_Sr)/len(y)\n",
    "        return g - g_after\n",
    "\n",
    "    def split(self, X, y, idx, thresh):\n",
    "        \"\"\"\n",
    "        TODO: implement a method that returns a split of the \n",
    "        dataset given an index of the feature and\n",
    "        a threshold for it\n",
    "        \"\"\"\n",
    "        meet_thresh = X[:, idx] < thresh\n",
    "        S_l_X = X[meet_thresh]\n",
    "        S_r_X = X[~meet_thresh]\n",
    "        S_l_y = y[meet_thresh]\n",
    "        S_r_y = y[~meet_thresh]\n",
    "        return S_l_X, S_r_X, S_l_y, S_r_y\n",
    "    \n",
    "    def segmenter(self, X, y):\n",
    "        \"\"\"\n",
    "        TODO: compute entropy gain for all single-dimension splits,\n",
    "        return the feature and the threshold for the split that\n",
    "        has maximum gain\n",
    "        \"\"\"\n",
    "        feat_idxs = np.arange(X.shape[1])\n",
    "        unique_features = [list(Counter(X[:, i]).keys()) for i in feat_idxs]\n",
    "        max_gain = 0\n",
    "        feature = -float('inf')\n",
    "        threshold = -float('inf')\n",
    "        for i in feat_idxs:\n",
    "            for val in unique_features[i]:\n",
    "                #gain = DecisionTree.information_gain(X[:, i], y, val)\n",
    "                gain = DecisionTree.gini_purification(X[:, i], y, val)\n",
    "                if gain >= max_gain:\n",
    "                    max_gain = gain\n",
    "                    feature = i\n",
    "                    threshold = val\n",
    "        return feature, threshold\n",
    "    \n",
    "    def fit(self, X, y):\n",
    "        \"\"\"\n",
    "        TODO: fit the model to a training set. Think about what would be \n",
    "        your stopping criteria\n",
    "        \"\"\"\n",
    "        if (len(y)<=self.nsize) or (self.depth==0):\n",
    "            self.label = stats.mode(y)[0][0]\n",
    "            return\n",
    "        if max(list(Counter(y).values()))/len(y)<=.05:\n",
    "            self.label = stats.mode(y)[0][0]\n",
    "            return\n",
    "        X_l, X_r, y_l, y_r = self.split(X, y, self.split_rule[0], \n",
    "                                        self.split_rule[1])\n",
    "        if (len(y_l) <= self.nsize) or (len(y_r) <= self.nsize):\n",
    "            self.label = stats.mode(y)[0][0]\n",
    "            return\n",
    "        self.left = DecisionTree(X_l, y_l, self.depth-1, self.nsize, \n",
    "                                 self.features)\n",
    "        self.right = DecisionTree(X_r, y_r, self.depth-1, self.nsize, \n",
    "                                  self.features)   \n",
    "        self.left.fit(X_l, y_l)\n",
    "        self.right.fit(X_r, y_r)\n",
    "        \n",
    "    def predict_row(self, row):\n",
    "            if self.label != '':\n",
    "                return self.label\n",
    "            if row[self.split_rule[0]] < self.split_rule[1]:\n",
    "                next_level = self.left\n",
    "            else:\n",
    "                next_level = self.right\n",
    "            return next_level.predict_row(row)\n",
    "\n",
    "    def predict(self, X):\n",
    "        \"\"\"\n",
    "        TODO: predict the labels for input data \n",
    "        \"\"\" \n",
    "        return np.array([self.predict_row(row) for row in X])\n",
    "\n",
    "#code to print tree adapted from: \n",
    "#https://stackoverflow.com/questions/20242479/printing-a-tree-data-structure-in-python\n",
    "    def __repr__(self, level=0):\n",
    "        \"\"\"\n",
    "        TODO: one way to visualize the decision tree is \n",
    "        to write out a __repr__ method that returns the string \n",
    "        representation of a tree. Think about how to visualize \n",
    "        a tree structure. You might have seen this before in CS61A.\n",
    "        \"\"\"\n",
    "        word = self.features[self.split_rule[0]]\n",
    "        threshold = self.split_rule[1]\n",
    "        ret = \"\\t\"*level+repr(word+' '+str(threshold))+\"\\n\"\n",
    "        if self.label != '':\n",
    "            ret += \"\\t\"*(level+2)+repr(self.label)+\"\\n\"\n",
    "        if self.left != []:\n",
    "            ret += self.left.__repr__(level+1)\n",
    "        if self.right != []:\n",
    "            ret += self.right.__repr__(level+1)\n",
    "        return ret"
   ]
  },
  {
   "cell_type": "markdown",
   "metadata": {},
   "source": [
    "\\pagebreak"
   ]
  },
  {
   "cell_type": "markdown",
   "metadata": {},
   "source": [
    "2.2"
   ]
  },
  {
   "cell_type": "code",
   "execution_count": 667,
   "metadata": {},
   "outputs": [],
   "source": [
    "import pandas as pd\n",
    "\n",
    "class RandomForest():\n",
    "    def __init__(self, X, y, sample_size, depth, nsize, features):\n",
    "        \"\"\"\n",
    "        TODO: initialization of a random forest\n",
    "        \"\"\"\n",
    "        np.random.seed(42)\n",
    "        self.X = X\n",
    "        self.y = y\n",
    "        self.depth = depth\n",
    "        self.nsize = nsize\n",
    "        self.features = features\n",
    "        self.m_features = int(np.sqrt(self.X.shape[1]))\n",
    "        self.sample_size = sample_size\n",
    "        self.trees = [self.make_tree() for i in np.arange(10)]\n",
    "    \n",
    "    def make_tree(self):\n",
    "        indices = np.random.permutation(len(self.y))[:self.sample_size]\n",
    "        feat_indices = np.random.permutation(self.X.shape[1])[:self.m_features]\n",
    "        X_samp = self.X[:, feat_indices]\n",
    "        return DecisionTree(X_samp[indices], self.y[indices], self.depth, \n",
    "                            self.nsize, self.features[feat_indices])\n",
    "\n",
    "    def fit(self, X, y):\n",
    "        \"\"\"\n",
    "        TODO: fit the model to a training set.\n",
    "        \"\"\"\n",
    "        for t in self.trees:\n",
    "            t.fit(X, y)\n",
    "        return\n",
    "    \n",
    "    def predict(self, X):\n",
    "        \"\"\"\n",
    "        TODO: predict the labels for input data \n",
    "        \"\"\"\n",
    "        return stats.mode([t.predict(X) for t in self.trees], axis=0)"
   ]
  },
  {
   "cell_type": "markdown",
   "metadata": {},
   "source": [
    "\\pagebreak"
   ]
  },
  {
   "cell_type": "markdown",
   "metadata": {},
   "source": [
    "2.3"
   ]
  },
  {
   "cell_type": "markdown",
   "metadata": {},
   "source": [
    "1. How did you deal with categorical features and missing values? \n",
    "I dealt with categorical features by using one-hot encoding. I dealt\n",
    "with missing values by inferring them using either a mean or mode of the\n",
    "feature being dealt with after filtering the data based on other features\n",
    "that were similar to the one with the missing value. For example, I used\n",
    "the mean age of people in first class to infer the age of someone in first\n",
    "class with a missing age.\n",
    "\n",
    "2. What was your stopping criterion?\n",
    "My stopping criterion were if I reached a certain depth level found with\n",
    "validation testing, if 95% of the points in the node had the same label,\n",
    "if the size of a node got to be smaller than a number found with \n",
    "validation testing, or if splitting would result in a node smaller\n",
    "than that determined number.\n",
    "\n",
    "3. How did you implement random forests?\n",
    "I implemented random forests by creating multiple decision trees, \n",
    "picking sqrt(len(features)) randomly for each tree and using a \n",
    "sample of data points (size picked with validation) for each tree. \n",
    "Then I trained each tree and made a prediction for each, using the \n",
    "mode of predictions for each point as the final prediction.\n",
    "\n",
    "4. Did you do anything special to speed up training?\n",
    "I made sure to use Counter wherever I could and use masks\n",
    "for comparisons wherever I could in my Decision Tree.\n",
    "Everything ran in no more than a few seconds except\n",
    "for random forests for spam, which still ran in about\n",
    "30 seconds or so.\n",
    "\n",
    "5. Anything else cool you implemented?\n",
    "For titanic, I utilized the cabin feature despite so many\n",
    "nans by filtering the cabins down to the deck letter and\n",
    "assigning deck letters with probabilities depending on \n",
    "which class the person was in. I googled deck levels on\n",
    "the titanic to help figure out which deck levels to assign."
   ]
  },
  {
   "cell_type": "markdown",
   "metadata": {},
   "source": [
    "\\pagebreak"
   ]
  },
  {
   "cell_type": "markdown",
   "metadata": {},
   "source": [
    "2.4"
   ]
  },
  {
   "cell_type": "code",
   "execution_count": 663,
   "metadata": {},
   "outputs": [],
   "source": [
    "def train_val_split(data, split_val):\n",
    "    np.random.seed(42)\n",
    "    np.random.shuffle(data)\n",
    "    train = data[:split_val]\n",
    "    validation = data[split_val:]\n",
    "    return train, validation"
   ]
  },
  {
   "cell_type": "code",
   "execution_count": 1233,
   "metadata": {},
   "outputs": [],
   "source": [
    "def load_and_clean_titanic(path, istest):\n",
    "    # Load titanic data       \n",
    "    data = pd.read_csv(path)\n",
    "\n",
    "    if not istest:\n",
    "        #drop missing label rows\n",
    "        data = data.drop(data[pd.isnull(data['survived'])].index)\n",
    "\n",
    "    #make sex numerical\n",
    "    data[['female', 'male']] = pd.get_dummies(data['sex'])\n",
    "    data['sex'] = data['male']\n",
    "    data = data.drop(['male', 'female'], axis=1)\n",
    "\n",
    "    #infer missing age using mean age of people in same pclass\n",
    "    mean_3 = np.round(data[data['pclass'] == 3.0]['age'].mean())\n",
    "    mean_2 = np.round(data[data['pclass'] == 2.0]['age'].mean())\n",
    "    mean_1 = np.round(data[data['pclass'] == 1.0]['age'].mean())\n",
    "    age = data.apply(lambda row: mean_3 if np.isnan(row['age']) \n",
    "                      and row['pclass'] == 3.0 else row['age'], axis=1)\n",
    "    data['age'] = age\n",
    "    age = data.apply(lambda row: mean_2 if np.isnan(row['age'])\n",
    "                      and row['pclass'] == 2.0 else row['age'], axis=1)\n",
    "    data['age'] = age\n",
    "    age = data.apply(lambda row: mean_1 if np.isnan(row['age']) \n",
    "                      and row['pclass'] == 1.0 else row['age'], axis=1)\n",
    "    data['age'] = age\n",
    "\n",
    "    #infer missing fare cost using mean cost of tickets with same pclass\n",
    "    mean_fare_3 = np.round(data[data['pclass'] == 3.0]['fare'].mean(), 4)\n",
    "    mean_fare_2 = np.round(data[data['pclass'] == 2.0]['fare'].mean(), 4)\n",
    "    mean_fare_1 = np.round(data[data['pclass'] == 1.0]['fare'].mean(), 4)\n",
    "\n",
    "    fare = data.apply(lambda row: mean_fare_3 if np.isnan(row['fare']) \n",
    "                       and row['pclass'] == 3.0 else row['fare'], axis=1)\n",
    "    data['fare'] = fare\n",
    "    fare = data.apply(lambda row: mean_fare_2 if np.isnan(row['fare']) \n",
    "                       and row['pclass'] == 2.0 else row['fare'], axis=1)\n",
    "    data['fare'] = fare\n",
    "    fare = data.apply(lambda row: mean_fare_1 if np.isnan(row['fare']) \n",
    "                       and row['pclass'] == 1.0 else row['fare'], axis=1)\n",
    "    data['fare'] = fare\n",
    "    \n",
    "    #ticket field is all different, drop it\n",
    "    data = data.drop('ticket', axis=1)\n",
    "    \n",
    "    #infer cabin values based on pclass, then make numerical\n",
    "    np.random.seed(42)\n",
    "    data['cab'] = data.apply(lambda row: np.random.choice(['G', 'F'], \n",
    "                                                          p=[.7, .3]) \n",
    "                             if pd.isnull(row['cabin']) \n",
    "                             and row['pclass']==3.0 \n",
    "                             else row['cabin'], axis=1)\n",
    "    data['cab'] = data.apply(lambda row: np.random.choice(['D', 'E', 'F'], \n",
    "                                                          p=[.2, .6, .2]) \n",
    "                               if pd.isnull(row['cab']) \n",
    "                               and row['pclass']==2.0 \n",
    "                             else row['cab'], axis=1)\n",
    "    data['cab'] = data.apply(lambda row: np.random.choice(['A', \n",
    "                                                           'B', \n",
    "                                                           'C', \n",
    "                                                           'D'], \n",
    "                                                          p=[.3,.3,.3,.1]) \n",
    "                             if pd.isnull(row['cab']) \n",
    "                             and row['pclass']==1.0 \n",
    "                             else row['cab'], axis=1)\n",
    "    \n",
    "    data['cab'] = data.apply(lambda row: 'G' if 'G' in row['cab'] \n",
    "                             else row['cab'], axis=1)\n",
    "    data['cab'] = data.apply(lambda row: 'F' if 'F' in row['cab'] \n",
    "                             else row['cab'], axis=1)\n",
    "    data['cab'] = data.apply(lambda row: 'E' if 'E' in row['cab'] \n",
    "                             else row['cab'], axis=1)\n",
    "    data['cab'] = data.apply(lambda row: 'D' if 'D' in row['cab'] \n",
    "                             else row['cab'], axis=1)\n",
    "    data['cab'] = data.apply(lambda row: 'C' if 'C' in row['cab'] \n",
    "                             else row['cab'], axis=1)\n",
    "    data['cab'] = data.apply(lambda row: 'B' if 'B' in row['cab'] \n",
    "                             else row['cab'], axis=1)\n",
    "    data['cab'] = data.apply(lambda row: 'A' if 'A' in row['cab'] \n",
    "                             else row['cab'], axis=1)\n",
    "    data['cabin'] = data['cab']\n",
    "    data = data.drop('cab', axis=1)\n",
    "    \n",
    "    if not istest:\n",
    "        data[['cabin A', 'cabin B', \n",
    "              'cabin C', 'cabin D', \n",
    "              'cabin E', 'cabin F', \n",
    "              'cabin G']] = pd.get_dummies(data['cabin']).drop('T', axis=1)\n",
    "    else:\n",
    "        data[['cabin A', 'cabin B', 'cabin C', 'cabin D', \n",
    "              'cabin E', 'cabin F', \n",
    "              'cabin G']] = pd.get_dummies(data['cabin'])\n",
    "    data = data.drop('cabin', axis=1)\n",
    "    \n",
    "    #infer missing embarked values with mode of feature, \n",
    "    #then make numerical\n",
    "    data['embarked'] = data['embarked'].fillna(data['embarked'].mode()[0])\n",
    "    data = data.drop('embarked', axis=1)\n",
    "    return data"
   ]
  },
  {
   "cell_type": "code",
   "execution_count": 1234,
   "metadata": {},
   "outputs": [],
   "source": [
    "def train_data(dataset, depth, nsize, sample_size=0, test=False): \n",
    "    if dataset == \"titanic\":\n",
    "        # Load titanic data       \n",
    "        path_train = 'datasets/titanic/titanic_training.csv'\n",
    "        path_test = 'datasets/titanic/titanic_testing_data.csv'\n",
    "        data = load_and_clean_titanic(path_train, False)\n",
    "        Z = load_and_clean_titanic(path_test, True).values\n",
    "        y = np.array(data['survived'])\n",
    "        X = data.drop('survived', axis=1)\n",
    "        class_names = [\"Died\", \"Survived\"]\n",
    "        features = np.array(X.columns)\n",
    "        X = X.values\n",
    "        \n",
    "        if not test:\n",
    "            X_train, X_val = train_val_split(X, len(X) - 200)\n",
    "            y_train, y_val = train_val_split(y, len(y) - 200)\n",
    "\n",
    "            if sample_size == 0:\n",
    "                model = DecisionTree(X_train, y_train, depth, \n",
    "                                     nsize, features)\n",
    "            else:\n",
    "                model = RandomForest(X_train, y_train, sample_size, \n",
    "                                     depth, nsize, features)\n",
    "        else:\n",
    "            model = DecisionTree(X, y, depth, nsize, features)\n",
    "\n",
    "\n",
    "        # TODO: preprocess titanic dataset\n",
    "        # Notes: \n",
    "        # 1. Some data points are missing their labels\n",
    "        # 2. Some features are not numerical but categorical\n",
    "        # 3. Some values are missing for some features\n",
    "\n",
    "    elif dataset == \"spam\":\n",
    "        features = np.array([\n",
    "            \"pain\", \"private\", \"bank\", \"money\", \"drug\", \"spam\", \n",
    "            \"prescription\", \"creative\", \"height\", \"featured\", \n",
    "            \"differ\", \"width\", \"other\", \"energy\", \"business\", \n",
    "            \"message\", \"volumes\", \"revision\", \"path\", \"meter\", \n",
    "            \"memo\", \"planning\", \"pleased\", \"record\", \"out\",\n",
    "            \"semicolon\", \"dollar\", \"sharp\", \"exclamation\", \n",
    "            \"parenthesis\", \"square_bracket\", \"ampersand\", \n",
    "            \"shipping\", \"price\", \"pills\", \"windows\", \"online\", \n",
    "            'email'\n",
    "        ])\n",
    "        assert len(features) == 38\n",
    "\n",
    "        # Load spam data\n",
    "        path_train = 'datasets/spam-dataset/spam_data.mat'\n",
    "        data = scipy.io.loadmat(path_train)\n",
    "        X = data['training_data']\n",
    "        y = np.squeeze(data['training_labels'])\n",
    "        Z = data['test_data']\n",
    "        class_names = [\"Ham\", \"Spam\"]\n",
    "        \n",
    "        if not test:\n",
    "            X_train, X_val = train_val_split(X, len(X) - 1000)\n",
    "            y_train, y_val = train_val_split(y, len(y) - 1000)\n",
    "\n",
    "            if sample_size == 0:\n",
    "                model = DecisionTree(X_train, y_train, depth, \n",
    "                                     nsize, features)\n",
    "            else:\n",
    "                model = RandomForest(X_train, y_train, sample_size, \n",
    "                                     depth, nsize, features)\n",
    "        else:\n",
    "            model = RandomForest(X, y, sample_size, depth, \n",
    "                                 nsize, features)\n",
    "\n",
    "    else:\n",
    "        raise NotImplementedError(\"Dataset %s not handled\" % dataset)\n",
    "\n",
    "    \"\"\"\n",
    "    TODO: train decision tree/random forest on different datasets and \n",
    "    perform the tasks in the problem\n",
    "    \"\"\"\n",
    "    if not test:\n",
    "        model.fit(X_train, y_train)\n",
    "        train_pred = model.predict(X_train)\n",
    "        val_pred = model.predict(X_val)\n",
    "        train_acc = (train_pred==y_train).sum()/len(y_train)\n",
    "        val_acc = (val_pred==y_val).sum()/len(y_val)\n",
    "        return train_acc, val_acc, model\n",
    "    else:\n",
    "        model.fit(X, y)\n",
    "        test_pred = model.predict(Z)\n",
    "        return test_pred"
   ]
  },
  {
   "cell_type": "code",
   "execution_count": 1251,
   "metadata": {},
   "outputs": [
    {
     "name": "stdout",
     "output_type": "stream",
     "text": [
      "0.861457334611697 0.86\n",
      "0.8434803451581975 0.848\n",
      "0.8688878235858102 0.861\n",
      "0.8267018216682647 0.825\n",
      "0.8722435282837967 0.859\n"
     ]
    }
   ],
   "source": [
    "#spam decision tree testing\n",
    "dataset = \"spam\"\n",
    "spam_train_acc, spam_val_acc, spam_tree = train_data(dataset,15,1,0,False)\n",
    "print(spam_train_acc, spam_val_acc)\n",
    "\n",
    "spam_train_acc2, spam_val_acc2, spam_tree2 = train_data(dataset,10,1,0,False)\n",
    "print(spam_train_acc2, spam_val_acc2)\n",
    "\n",
    "spam_train_acc3, spam_val_acc3, spam_tree3 = train_data(dataset,20,1,0,False)\n",
    "print(spam_train_acc3, spam_val_acc3)\n",
    "\n",
    "spam_train_acc4, spam_val_acc4, spam_tree4 = train_data(dataset,20,15,0,False)\n",
    "print(spam_train_acc4, spam_val_acc4)\n",
    "\n",
    "spam_train_acc5, spam_val_acc5, spam_tree5 = train_data(dataset,30,1,0,False)\n",
    "print(spam_train_acc5, spam_val_acc5)"
   ]
  },
  {
   "cell_type": "code",
   "execution_count": 1237,
   "metadata": {},
   "outputs": [
    {
     "name": "stdout",
     "output_type": "stream",
     "text": [
      "0.8734419942473634 0.858\n"
     ]
    }
   ],
   "source": [
    "#spam random forest testing\n",
    "spam_train_acc,spam_val_acc,spam_tree = train_data(dataset,30,1,4171,False)\n",
    "print(spam_train_acc, spam_val_acc)"
   ]
  },
  {
   "cell_type": "code",
   "execution_count": 784,
   "metadata": {},
   "outputs": [
    {
     "name": "stdout",
     "output_type": "stream",
     "text": [
      "0.8734419942473634 0.858\n"
     ]
    }
   ],
   "source": [
    "spam_train_acc2,spam_val_acc2,spam_tree2 = train_data(dataset,30,1,3000,False)\n",
    "print(spam_train_acc2, spam_val_acc2)"
   ]
  },
  {
   "cell_type": "code",
   "execution_count": 785,
   "metadata": {},
   "outputs": [
    {
     "name": "stdout",
     "output_type": "stream",
     "text": [
      "0.8729626078619367 0.858\n"
     ]
    }
   ],
   "source": [
    "spam_train_acc3,spam_val_acc3,spam_tree3 = train_data(dataset,30,1,2000,False)\n",
    "print(spam_train_acc3, spam_val_acc3)"
   ]
  },
  {
   "cell_type": "code",
   "execution_count": 786,
   "metadata": {},
   "outputs": [
    {
     "name": "stdout",
     "output_type": "stream",
     "text": [
      "0.8734419942473634 0.856\n"
     ]
    }
   ],
   "source": [
    "spam_train_acc4,spam_val_acc4,spam_tree4 = train_data(dataset,30,1,500,False)\n",
    "print(spam_train_acc4, spam_val_acc4)"
   ]
  },
  {
   "cell_type": "code",
   "execution_count": 787,
   "metadata": {},
   "outputs": [
    {
     "name": "stdout",
     "output_type": "stream",
     "text": [
      "0.8338926174496645 0.831\n"
     ]
    }
   ],
   "source": [
    "spam_train_acc4,spam_val_acc4,spam_tree4 = train_data(dataset,30,10,3000,False)\n",
    "print(spam_train_acc4, spam_val_acc4)"
   ]
  },
  {
   "cell_type": "code",
   "execution_count": 788,
   "metadata": {},
   "outputs": [
    {
     "name": "stdout",
     "output_type": "stream",
     "text": [
      "0.8696069031639502 0.86\n"
     ]
    }
   ],
   "source": [
    "spam_train_acc3,spam_val_acc3,spam_tree3 = train_data(dataset,20,1,2000,False)\n",
    "print(spam_train_acc3, spam_val_acc3)"
   ]
  },
  {
   "cell_type": "code",
   "execution_count": 1204,
   "metadata": {},
   "outputs": [
    {
     "name": "stdout",
     "output_type": "stream",
     "text": [
      "0.8147684605757196 0.835\n",
      "0.886107634543179 0.78\n",
      "0.8360450563204005 0.81\n",
      "0.8072590738423029 0.81\n",
      "0.886107634543179 0.78\n"
     ]
    }
   ],
   "source": [
    "#titanic decision tree testing\n",
    "dataset = \"titanic\"\n",
    "t_train_acc, t_val_acc, t_tree = train_data(dataset, 3, 1, 0, False)\n",
    "print(t_train_acc, t_val_acc)\n",
    "t_train_acc2, t_val_acc2, t_tree2 = train_data(dataset, 15, 1, 0, False)\n",
    "print(t_train_acc2, t_val_acc2)\n",
    "t_train_acc3, t_val_acc3, t_tree3 = train_data(dataset, 5, 1, 0, False)\n",
    "print(t_train_acc3, t_val_acc3)\n",
    "t_train_acc4, t_val_acc4, t_tree4 = train_data(dataset, 3, 10, 0, False)\n",
    "print(t_train_acc4, t_val_acc4)\n",
    "t_train_acc5, t_val_acc5, t_tree5 = train_data(dataset, 30, 1, 0, False)\n",
    "print(t_train_acc5, t_val_acc5)"
   ]
  },
  {
   "cell_type": "code",
   "execution_count": 1205,
   "metadata": {},
   "outputs": [
    {
     "name": "stdout",
     "output_type": "stream",
     "text": [
      "0.7972465581977471 0.755\n"
     ]
    }
   ],
   "source": [
    "#titanic random forest testing\n",
    "t_train_acc, t_val_acc, t_tree = train_data(dataset, 3, 1, 699, False)\n",
    "print(t_train_acc, t_val_acc)"
   ]
  },
  {
   "cell_type": "code",
   "execution_count": 1206,
   "metadata": {},
   "outputs": [
    {
     "name": "stdout",
     "output_type": "stream",
     "text": [
      "0.8710888610763454 0.8\n"
     ]
    }
   ],
   "source": [
    "t_train_acc, t_val_acc, t_tree = train_data(dataset, 10, 1, 699, False)\n",
    "print(t_train_acc, t_val_acc)"
   ]
  },
  {
   "cell_type": "code",
   "execution_count": 1210,
   "metadata": {},
   "outputs": [
    {
     "name": "stdout",
     "output_type": "stream",
     "text": [
      "0.8748435544430538 0.8\n"
     ]
    }
   ],
   "source": [
    "t_train_acc, t_val_acc, t_tree = train_data(dataset, 20, 1, 699, False)\n",
    "print(t_train_acc, t_val_acc)"
   ]
  },
  {
   "cell_type": "code",
   "execution_count": 1213,
   "metadata": {},
   "outputs": [
    {
     "name": "stdout",
     "output_type": "stream",
     "text": [
      "0.6332916145181476 0.535\n"
     ]
    }
   ],
   "source": [
    "t_train_acc, t_val_acc, t_tree = train_data(dataset, 10, 10, 699, False)\n",
    "print(t_train_acc, t_val_acc)"
   ]
  },
  {
   "cell_type": "code",
   "execution_count": 1215,
   "metadata": {},
   "outputs": [
    {
     "name": "stdout",
     "output_type": "stream",
     "text": [
      "0.8660826032540676 0.805\n"
     ]
    }
   ],
   "source": [
    "t_train_acc, t_val_acc, t_tree = train_data(dataset, 10, 1, 300, False)\n",
    "print(t_train_acc, t_val_acc)"
   ]
  },
  {
   "cell_type": "code",
   "execution_count": 1216,
   "metadata": {},
   "outputs": [
    {
     "name": "stdout",
     "output_type": "stream",
     "text": [
      "0.869837296620776 0.79\n"
     ]
    }
   ],
   "source": [
    "t_train_acc, t_val_acc, t_tree = train_data(dataset, 10, 1, 200, False)\n",
    "print(t_train_acc, t_val_acc)"
   ]
  },
  {
   "cell_type": "code",
   "execution_count": 1221,
   "metadata": {},
   "outputs": [
    {
     "name": "stdout",
     "output_type": "stream",
     "text": [
      "0.869837296620776 0.79\n"
     ]
    }
   ],
   "source": [
    "t_train_acc, t_val_acc, t_tree = train_data(dataset, 10, 1, 350, False)\n",
    "print(t_train_acc, t_val_acc)"
   ]
  },
  {
   "cell_type": "code",
   "execution_count": 1230,
   "metadata": {},
   "outputs": [],
   "source": [
    "def results_to_csv(test, submission_name):\n",
    "    test = test.astype(int)\n",
    "    df = pd.DataFrame({'Category': test}, index=np.arange(len(test)))\n",
    "    df.index += 1  # Ensures that the index starts at 1. \n",
    "    df.to_csv(submission_name, index_label='Id')"
   ]
  },
  {
   "cell_type": "code",
   "execution_count": 1180,
   "metadata": {},
   "outputs": [],
   "source": [
    "#kaggle submissions generation\n",
    "spam_test_pred = train_data(\"spam\", 20, 1, 2000, True)"
   ]
  },
  {
   "cell_type": "code",
   "execution_count": 1182,
   "metadata": {},
   "outputs": [],
   "source": [
    "results_to_csv(spam_test_pred[0][0], 'submission.csv')"
   ]
  },
  {
   "cell_type": "code",
   "execution_count": 1225,
   "metadata": {},
   "outputs": [],
   "source": [
    "titanic_test_pred = train_data(\"titanic\", 3, 1, 0, True)"
   ]
  },
  {
   "cell_type": "code",
   "execution_count": 1231,
   "metadata": {},
   "outputs": [],
   "source": [
    "results_to_csv(titanic_test_pred, 'titanic_submission.csv')"
   ]
  },
  {
   "cell_type": "markdown",
   "metadata": {},
   "source": [
    "\\pagebreak"
   ]
  },
  {
   "cell_type": "markdown",
   "metadata": {},
   "source": [
    "Accuracies:\n",
    "\n",
    "For the spam dataset, Decision Tree: \n",
    "\n",
    "Training accuracy = 0.8688878235858102\n",
    "\n",
    "Validation accuracy = 0.861\n",
    "\n",
    "\n",
    "For the spam dataset, Random Forest: \n",
    "\n",
    "Training accuracy = 0.8696069031639502\n",
    "\n",
    "Validation accuracy = 0.86\n",
    "\n",
    "\n",
    "For the titanic dataset, Decision Tree:\n",
    "\n",
    "Training accuracy = 0.8147684605757196 \n",
    "\n",
    "Validation accuracy = 0.835\n",
    "\n",
    "\n",
    "For the titanic dataset, Random Forest:\n",
    "\n",
    "Training accuracy = 0.8748435544430538 \n",
    "\n",
    "Validation accuracy = 0.8\n",
    "\n",
    "\n",
    "Kaggle Submissions:\n",
    "\n",
    "username = ayee\n",
    "\n",
    "submission accuracy, spam = 0.78030\n",
    "\n",
    "submission accuracy, titanic = 0.84946"
   ]
  },
  {
   "cell_type": "markdown",
   "metadata": {},
   "source": [
    "\\pagebreak"
   ]
  },
  {
   "cell_type": "markdown",
   "metadata": {},
   "source": [
    "2.5"
   ]
  },
  {
   "cell_type": "markdown",
   "metadata": {},
   "source": [
    "For spam, I added features for 2 more words I thought were\n",
    "common in spam. I also found the 5 most common words in \n",
    "spam, filtering out words I thought common in spam and ham\n",
    "manually, and used those words as features. \n",
    "\n",
    "1. I added a feature for a word I thought was common in spam (\"shipping\") \n",
    "by using the same type of code that was used for the standard features in\n",
    "featurize.py. Then, I found the 5 most common words in the spam files that\n",
    "were 5 letters or longer while filtering out words I thought would be \n",
    "common in both spam and ham, and I used those words as features. All\n",
    "these features were implemented in featurize.py.\n",
    "\n",
    "\n",
    "2. \n",
    "Splits of a spam email:\n",
    "\n",
    "(a) (\"exclamation\") >= 1\n",
    "\n",
    "(b) (\"ampersand\") < 1\n",
    "\n",
    "(c) (\"meter\") < 1\n",
    "\n",
    "(d) (\"volumes\") < 1\n",
    "\n",
    "(e) (\"money\") < 1\n",
    "\n",
    "(f) (\"dollar\") < 2\n",
    "\n",
    "(g) (\"message\") < 1\n",
    "\n",
    "(h) (\"prescription\") < 1\n",
    "\n",
    "(i) (\"semicolon\") >= 1\n",
    "\n",
    "(j) (\"other\") < 1\n",
    "\n",
    "(k) (\"parenthesis\") < 1\n",
    "\n",
    "(l) (\"exclamation\") < 2\n",
    "\n",
    "(m) Therefore the email was classified as spam\n",
    "\n",
    "Splits of a ham email:\n",
    "\n",
    "(a) ('exclamation') < 1\n",
    "\n",
    "(b) ('meter') < 1\n",
    "\n",
    "(c) ('online') < 1\n",
    "\n",
    "(d) ('parenthesis') >= 1\n",
    "\n",
    "(e) ('private') < 1\n",
    "\n",
    "(f) ('differ') < 1\n",
    "\n",
    "(g) ('pills') < 1\n",
    "\n",
    "(h) ('dollar') < 2\n",
    "\n",
    "(i) ('windows') < 2\n",
    "\n",
    "(j) ('money') < 1\n",
    "\n",
    "(k) Therefore the message was classified as ham"
   ]
  },
  {
   "cell_type": "code",
   "execution_count": 1261,
   "metadata": {},
   "outputs": [
    {
     "name": "stdout",
     "output_type": "stream",
     "text": [
      "28 1.0\n",
      ">=\n",
      "31 1.0\n",
      "<\n",
      "19 1.0\n",
      "<\n",
      "16 1.0\n",
      "<\n",
      "3 1.0\n",
      "<\n",
      "26 2.0\n",
      "<\n",
      "15 1.0\n",
      "<\n",
      "6 1.0\n",
      "<\n",
      "25 1.0\n",
      ">=\n",
      "12 1.0\n",
      "<\n",
      "29 1.0\n",
      "<\n",
      "28 2.0\n",
      "<\n",
      "1\n",
      "28 1.0\n",
      "<\n",
      "19 1.0\n",
      "<\n",
      "36 1.0\n",
      "<\n",
      "29 1.0\n",
      ">=\n",
      "1 1.0\n",
      "<\n",
      "10 1.0\n",
      "<\n",
      "34 1.0\n",
      "<\n",
      "26 2.0\n",
      "<\n",
      "35 2.0\n",
      "<\n",
      "3 1.0\n",
      "<\n",
      "0\n"
     ]
    },
    {
     "data": {
      "text/plain": [
       "array([1, 0])"
      ]
     },
     "execution_count": 1261,
     "metadata": {},
     "output_type": "execute_result"
    }
   ],
   "source": [
    "#I inserted print statements into the tree to find \n",
    "#these splits, they are no longer there\n",
    "spam_tree3.predict([X[0], X[len(y)-1]])"
   ]
  },
  {
   "cell_type": "code",
   "execution_count": 1300,
   "metadata": {},
   "outputs": [],
   "source": [
    "def train_data_val(dataset, depth, nsize): \n",
    "    if dataset == \"spam\":\n",
    "        features = np.array([\n",
    "            \"pain\", \"private\", \"bank\", \"money\", \"drug\", \"spam\", \n",
    "            \"prescription\", \"creative\", \"height\", \"featured\", \n",
    "            \"differ\", \"width\", \"other\", \"energy\", \"business\", \n",
    "            \"message\", \"volumes\", \"revision\", \"path\", \"meter\", \n",
    "            \"memo\", \"planning\", \"pleased\", \"record\", \"out\",\n",
    "            \"semicolon\", \"dollar\", \"sharp\", \"exclamation\", \n",
    "            \"parenthesis\", \"square_bracket\", \"ampersand\", \n",
    "            \"shipping\", \"price\", \"pills\", \"windows\", \"online\", \n",
    "            'email'\n",
    "        ])\n",
    "        assert len(features) == 38\n",
    "\n",
    "        # Load spam data\n",
    "        path_train = 'datasets/spam-dataset/spam_data.mat'\n",
    "        data = scipy.io.loadmat(path_train)\n",
    "        X = data['training_data']\n",
    "        y = np.squeeze(data['training_labels'])\n",
    "        class_names = [\"Ham\", \"Spam\"]\n",
    "\n",
    "        X_train, X_val = train_val_split(X, int(np.round(len(X)*.8)))\n",
    "        y_train, y_val = train_val_split(y, int(np.round(len(y)*.8)))\n",
    "            \n",
    "        model = DecisionTree(X_train, y_train, depth, \n",
    "                                     nsize, features)  \n",
    "\n",
    "    else:\n",
    "        raise NotImplementedError(\"Dataset %s not handled\" % dataset)\n",
    "\n",
    "    \"\"\"\n",
    "    TODO: train decision tree/random forest on different datasets and \n",
    "    perform the tasks in the problem\n",
    "    \"\"\"\n",
    "    model.fit(X_train, y_train)\n",
    "    val_pred = model.predict(X_val)\n",
    "    val_acc = (val_pred==y_val).sum()/len(y_val)\n",
    "    return val_acc"
   ]
  },
  {
   "cell_type": "markdown",
   "metadata": {},
   "source": [
    "\\pagebreak"
   ]
  },
  {
   "cell_type": "code",
   "execution_count": 1301,
   "metadata": {},
   "outputs": [],
   "source": [
    "val_accuracies = np.array([])\n",
    "for i in np.arange(40):\n",
    "    val_acc = train_data_val('spam', i+1, 1)\n",
    "    val_accuracies = np.append(val_accuracies, val_acc)"
   ]
  },
  {
   "cell_type": "code",
   "execution_count": 1310,
   "metadata": {},
   "outputs": [
    {
     "data": {
      "image/png": "[encoded data removed]",
      "text/plain": [
       "<Figure size 576x432 with 1 Axes>"
      ]
     },
     "metadata": {
      "needs_background": "light"
     },
     "output_type": "display_data"
    }
   ],
   "source": [
    "import matplotlib.pyplot as plt\n",
    "\n",
    "plt.figure(figsize=(8,6))\n",
    "plt.plot(np.arange(1,41), val_accuracies)\n",
    "plt.xlabel('Depth')\n",
    "plt.ylabel('Validation Accuracy')\n",
    "plt.title('Validation Accuracies for Depth 1-40');"
   ]
  },
  {
   "cell_type": "markdown",
   "metadata": {},
   "source": [
    "3. The depth with the highest validation accuracy was 15. We see that as depth\n",
    "increases the accuracy increases as the model gets better, but after depth 15\n",
    "the model begins to overfit and the validation accuracy decreases."
   ]
  },
  {
   "cell_type": "code",
   "execution_count": 1313,
   "metadata": {},
   "outputs": [
    {
     "data": {
      "text/plain": [
       "(array([15]),)"
      ]
     },
     "execution_count": 1313,
     "metadata": {},
     "output_type": "execute_result"
    }
   ],
   "source": [
    "np.where(val_accuracies==max(val_accuracies))"
   ]
  },
  {
   "cell_type": "markdown",
   "metadata": {},
   "source": [
    "\\pagebreak"
   ]
  },
  {
   "cell_type": "code",
   "execution_count": null,
   "metadata": {},
   "outputs": [],
   "source": []
  },
  {
   "cell_type": "code",
   "execution_count": 1328,
   "metadata": {},
   "outputs": [
    {
     "data": {
      "text/plain": [
       "'sex 1.0'\n",
       "\t'pclass 3.0'\n",
       "\t\t'fare 26.25'\n",
       "\t\t\t'age 60.0'\n",
       "\t\t\t\t\t1.0\n",
       "\t\t\t'age 3.0'\n",
       "\t\t\t\t\t1.0\n",
       "\t\t'fare 23.45'\n",
       "\t\t\t'age 26.0'\n",
       "\t\t\t\t\t1.0\n",
       "\t\t\t'age 10.0'\n",
       "\t\t\t\t\t0.0\n",
       "\t'age 11.5'\n",
       "\t\t'sibsp 4.0'\n",
       "\t\t\t'fare 15.9'\n",
       "\t\t\t\t\t1.0\n",
       "\t\t\t'cabin G 1.0'\n",
       "\t\t\t\t\t0.0\n",
       "\t\t'pclass 2.0'\n",
       "\t\t\t'age 55.0'\n",
       "\t\t\t\t\t0.0\n",
       "\t\t\t'age 33.0'\n",
       "\t\t\t\t\t0.0"
      ]
     },
     "execution_count": 1328,
     "metadata": {},
     "output_type": "execute_result"
    }
   ],
   "source": [
    "dataset = \"titanic\"\n",
    "t_train_acc, t_val_acc, t_tree = train_data(dataset, 3, 1, 0, False)\n",
    "t_tree"
   ]
  },
  {
   "cell_type": "markdown",
   "metadata": {},
   "source": [
    "For the leaf nodes, 0 = Died and 1 = Survived. I did not feel like modifying everything\n",
    "to keep track of the class names."
   ]
  },
  {
   "cell_type": "code",
   "execution_count": null,
   "metadata": {},
   "outputs": [],
   "source": []
  }
 ],
 "metadata": {
  "kernelspec": {
   "display_name": "Python 3",
   "language": "python",
   "name": "python3"
  },
  "language_info": {
   "codemirror_mode": {
    "name": "ipython",
    "version": 3
   },
   "file_extension": ".py",
   "mimetype": "text/x-python",
   "name": "python",
   "nbconvert_exporter": "python",
   "pygments_lexer": "ipython3",
   "version": "3.7.1"
  }
 },
 "nbformat": 4,
 "nbformat_minor": 2
}
