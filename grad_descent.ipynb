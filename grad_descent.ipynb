{
 "cells": [
  {
   "cell_type": "code",
   "execution_count": 1118,
   "metadata": {},
   "outputs": [
    {
     "name": "stdout",
     "output_type": "stream",
     "text": [
      "X_test (497, 12)\n",
      "X (6000, 12)\n",
      "y (6000, 1)\n"
     ]
    }
   ],
   "source": [
    "import sys\n",
    "if sys.version_info[0] < 3:\n",
    "    raise Exception(\"Python 3 not detected.\")\n",
    "import numpy as np\n",
    "import pandas as pd\n",
    "import matplotlib.pyplot as plt\n",
    "from scipy import io\n",
    "from scipy import special\n",
    "\n",
    "fields = \"X_test\", \"X\", \"y\"\n",
    "\n",
    "wine = io.loadmat(\"data.mat\")\n",
    "for field in fields:\n",
    "        print(field, wine[field].shape)"
   ]
  },
  {
   "cell_type": "markdown",
   "metadata": {},
   "source": [
    "PROBLEM 4.1"
   ]
  },
  {
   "cell_type": "code",
   "execution_count": 1119,
   "metadata": {},
   "outputs": [],
   "source": [
    "def train_val_split(data, split_val):\n",
    "    np.random.seed(42)\n",
    "    np.random.shuffle(data)\n",
    "    train = data[:split_val]\n",
    "    validation = data[split_val:]\n",
    "    return train, validation"
   ]
  },
  {
   "cell_type": "code",
   "execution_count": 1120,
   "metadata": {},
   "outputs": [],
   "source": [
    "X_matrix = np.insert(wine['X'], 12, 1, axis=1)\n",
    "X_train, X_val = train_val_split(X_matrix, 5000)\n",
    "y_train, y_val = train_val_split(wine['y'], 5000)\n",
    "X_test = np.insert(wine['X_test'], 12, 1, axis=1)"
   ]
  },
  {
   "cell_type": "code",
   "execution_count": 1250,
   "metadata": {},
   "outputs": [],
   "source": [
    "def gradient_descent(X, y, lam, ep):\n",
    "    cost = np.array([])\n",
    "    w = np.zeros((13,1))\n",
    "    iters = 0\n",
    "    while(True):\n",
    "        w_new = w + ep * (-2*lam*w + np.dot(X.T, y - special.expit(np.dot(X, w))))\n",
    "        delta_w = w_new - w\n",
    "        if all(abs(val) < .001 for val in delta_w):\n",
    "            break\n",
    "        w = w_new\n",
    "        Xw = np.dot(X, w)\n",
    "        y1 = np.dot(-y.T, -np.log(1 + np.e**-Xw))\n",
    "        y2 = np.dot((1-y).T, -Xw - np.log(1 + np.e**-Xw))\n",
    "        iter_cost = lam * np.linalg.norm(w) - (y1 + y2)\n",
    "        cost = np.append(cost, iter_cost)\n",
    "        iters += 1\n",
    "    return w, cost, iters"
   ]
  },
  {
   "cell_type": "markdown",
   "metadata": {},
   "source": [
    "in my gradient descent function I decided to stop updating w after the change in w\n",
    "was less than a small value, indicating that not much was being changed by the update \n",
    "anymore."
   ]
  },
  {
   "cell_type": "markdown",
   "metadata": {},
   "source": [
    "expirementing with lambda and epsilon values:"
   ]
  },
  {
   "cell_type": "code",
   "execution_count": 1218,
   "metadata": {},
   "outputs": [
    {
     "data": {
      "text/plain": [
       "0.9354"
      ]
     },
     "execution_count": 1218,
     "metadata": {},
     "output_type": "execute_result"
    }
   ],
   "source": [
    "w, cost, iters = gradient_descent(X_train, y_train, .1, 1e-6)\n",
    "pred = np.round(special.expit(np.dot(X_train, w)))\n",
    "training_error = (pred == y_train).sum() / len(y_train)\n",
    "training_error"
   ]
  },
  {
   "cell_type": "code",
   "execution_count": 1219,
   "metadata": {},
   "outputs": [
    {
     "data": {
      "text/plain": [
       "0.93"
      ]
     },
     "execution_count": 1219,
     "metadata": {},
     "output_type": "execute_result"
    }
   ],
   "source": [
    "val_pred = np.round(special.expit(np.dot(X_val, w)))\n",
    "(val_pred == y_val).sum() / len(y_val)"
   ]
  },
  {
   "cell_type": "code",
   "execution_count": 1220,
   "metadata": {},
   "outputs": [
    {
     "data": {
      "text/plain": [
       "0.9558"
      ]
     },
     "execution_count": 1220,
     "metadata": {},
     "output_type": "execute_result"
    }
   ],
   "source": [
    "w2, cost2, iters2 = gradient_descent(X_train, y_train, .01, 1e-6)\n",
    "pred2 = np.round(special.expit(np.dot(X_train, w2)))\n",
    "training_error2 = (pred2 == y_train).sum() / len(y_train)\n",
    "training_error2"
   ]
  },
  {
   "cell_type": "code",
   "execution_count": 1221,
   "metadata": {},
   "outputs": [
    {
     "data": {
      "text/plain": [
       "0.954"
      ]
     },
     "execution_count": 1221,
     "metadata": {},
     "output_type": "execute_result"
    }
   ],
   "source": [
    "val_pred2 = np.round(special.expit(np.dot(X_val, w2)))\n",
    "(val_pred2 == y_val).sum() / len(y_val)"
   ]
  },
  {
   "cell_type": "code",
   "execution_count": 1222,
   "metadata": {},
   "outputs": [
    {
     "data": {
      "text/plain": [
       "0.9358"
      ]
     },
     "execution_count": 1222,
     "metadata": {},
     "output_type": "execute_result"
    }
   ],
   "source": [
    "w3, cost3, iters3 = gradient_descent(X_train, y_train, 1, 1e-6)\n",
    "pred3 = np.round(special.expit(np.dot(X_train, w3)))\n",
    "training_error3 = (pred3 == y_train).sum() / len(y_train)\n",
    "training_error3"
   ]
  },
  {
   "cell_type": "code",
   "execution_count": 1223,
   "metadata": {},
   "outputs": [
    {
     "data": {
      "text/plain": [
       "0.926"
      ]
     },
     "execution_count": 1223,
     "metadata": {},
     "output_type": "execute_result"
    }
   ],
   "source": [
    "val_pred3 = np.round(special.expit(np.dot(X_val, w3)))\n",
    "(val_pred3 == y_val).sum() / len(y_val)"
   ]
  },
  {
   "cell_type": "code",
   "execution_count": 1224,
   "metadata": {},
   "outputs": [
    {
     "data": {
      "text/plain": [
       "0.9354"
      ]
     },
     "execution_count": 1224,
     "metadata": {},
     "output_type": "execute_result"
    }
   ],
   "source": [
    "w4, cost4, iters4 = gradient_descent(X_train, y_train, .001, 1e-6)\n",
    "pred4 = np.round(special.expit(np.dot(X_train, w4)))\n",
    "training_error4 = (pred4 == y_train).sum() / len(y_train)\n",
    "training_error4"
   ]
  },
  {
   "cell_type": "code",
   "execution_count": 1225,
   "metadata": {},
   "outputs": [
    {
     "data": {
      "text/plain": [
       "0.925"
      ]
     },
     "execution_count": 1225,
     "metadata": {},
     "output_type": "execute_result"
    }
   ],
   "source": [
    "val_pred4 = np.round(special.expit(np.dot(X_val, w4)))\n",
    "(val_pred4 == y_val).sum() / len(y_val)"
   ]
  },
  {
   "cell_type": "code",
   "execution_count": 1226,
   "metadata": {},
   "outputs": [
    {
     "data": {
      "text/plain": [
       "0.7564"
      ]
     },
     "execution_count": 1226,
     "metadata": {},
     "output_type": "execute_result"
    }
   ],
   "source": [
    "w5, cost5, iters5 = gradient_descent(X_train, y_train, .01, 1e-7)\n",
    "pred5 = np.round(special.expit(np.dot(X_train, w5)))\n",
    "training_error5 = (pred5 == y_train).sum() / len(y_train)\n",
    "training_error5"
   ]
  },
  {
   "cell_type": "code",
   "execution_count": 1227,
   "metadata": {},
   "outputs": [
    {
     "data": {
      "text/plain": [
       "0.749"
      ]
     },
     "execution_count": 1227,
     "metadata": {},
     "output_type": "execute_result"
    }
   ],
   "source": [
    "val_pred5 = np.round(special.expit(np.dot(X_val, w5)))\n",
    "(val_pred5 == y_val).sum() / len(y_val)"
   ]
  },
  {
   "cell_type": "code",
   "execution_count": 1228,
   "metadata": {},
   "outputs": [
    {
     "data": {
      "image/png": "[encoded data removed]",
      "text/plain": [
       "<Figure size 576x432 with 1 Axes>"
      ]
     },
     "metadata": {
      "needs_background": "light"
     },
     "output_type": "display_data"
    }
   ],
   "source": [
    "plt.figure(figsize=(8,6))\n",
    "plt.plot(np.arange(iters2), cost2)\n",
    "plt.xlabel('Number of Iterations')\n",
    "plt.ylabel('Cost')\n",
    "plt.title('Cost per Iteration for Gradient Descent, Lambda: .01, epsilon: 1e-6');"
   ]
  },
  {
   "cell_type": "markdown",
   "metadata": {},
   "source": [
    "\\pagebreak"
   ]
  },
  {
   "cell_type": "markdown",
   "metadata": {},
   "source": [
    "PROBLEM 4.2"
   ]
  },
  {
   "cell_type": "code",
   "execution_count": 1262,
   "metadata": {},
   "outputs": [],
   "source": [
    "def stochastic_gradient_descent(X, y, lam, ep):\n",
    "    cost = np.array([])\n",
    "    w = np.zeros(13)\n",
    "    w_old = w\n",
    "    iters = 0\n",
    "    while(True):\n",
    "        for i in np.arange(len(X)):\n",
    "            pt = np.random.randint(len(X))\n",
    "            X_pt = X[pt]\n",
    "            y_pt = y[pt]\n",
    "            w = w -ep *(2*lam*w-((y_pt-special.expit(np.dot(X_pt.T,w)))*X_pt))\n",
    "            Xw = np.dot(X, w)\n",
    "            y_1 = np.dot(-y.T, -np.log(1 + np.e**-Xw))\n",
    "            y_2 = np.dot((1-y).T, -Xw - np.log(1 + np.e**-Xw))\n",
    "            iter_cost = lam * np.linalg.norm(w) - (y_1 + y_2)\n",
    "            cost = np.append(cost, iter_cost)\n",
    "            iters += 1\n",
    "            if iters % 1000 == 0:\n",
    "                delta_w = w - w_old\n",
    "                if all(abs(val) < .01 for val in delta_w):\n",
    "                    return w, cost, iters\n",
    "                w_old = w"
   ]
  },
  {
   "cell_type": "markdown",
   "metadata": {},
   "source": [
    "I decided to stop updating w according to the same premise as in batch gradient descent,\n",
    "but since the change in stochastic descent is only 1 entry at a time, I don't check for \n",
    "change in w for every 1000 iterations to ensure w was able to change enough not to \n",
    "stop iterating immediately."
   ]
  },
  {
   "cell_type": "markdown",
   "metadata": {},
   "source": [
    "experimenting with epsilon values:"
   ]
  },
  {
   "cell_type": "code",
   "execution_count": 1253,
   "metadata": {},
   "outputs": [
    {
     "data": {
      "text/plain": [
       "0.9344"
      ]
     },
     "execution_count": 1253,
     "metadata": {},
     "output_type": "execute_result"
    }
   ],
   "source": [
    "w_s, cost_s, iters_s = stochastic_gradient_descent(X_train, y_train, .01, .0001)\n",
    "pred_s = np.round(special.expit(np.dot(X_train, w_s)))\n",
    "training_error_s = (np.reshape(pred_s, (5000,1)) == y_train).sum() / len(y_train)\n",
    "training_error_s"
   ]
  },
  {
   "cell_type": "code",
   "execution_count": 1254,
   "metadata": {},
   "outputs": [
    {
     "data": {
      "text/plain": [
       "0.929"
      ]
     },
     "execution_count": 1254,
     "metadata": {},
     "output_type": "execute_result"
    }
   ],
   "source": [
    "val_pred_s = np.round(special.expit(np.dot(X_val, w_s)))\n",
    "(np.reshape(val_pred_s, (1000,1)) == y_val).sum() / len(y_val)"
   ]
  },
  {
   "cell_type": "code",
   "execution_count": 1263,
   "metadata": {},
   "outputs": [
    {
     "data": {
      "text/plain": [
       "0.7942"
      ]
     },
     "execution_count": 1263,
     "metadata": {},
     "output_type": "execute_result"
    }
   ],
   "source": [
    "w_s2,cost_s2,iters_s2 = stochastic_gradient_descent(X_train, y_train,.01,.00001)\n",
    "pred_s2 = np.round(special.expit(np.dot(X_train, w_s2)))\n",
    "training_error_s2 = (np.reshape(pred_s2, (5000,1)) == y_train).sum() / len(y_train)\n",
    "training_error_s2"
   ]
  },
  {
   "cell_type": "code",
   "execution_count": 1256,
   "metadata": {},
   "outputs": [
    {
     "data": {
      "text/plain": [
       "0.794"
      ]
     },
     "execution_count": 1256,
     "metadata": {},
     "output_type": "execute_result"
    }
   ],
   "source": [
    "val_pred_s2 = np.round(special.expit(np.dot(X_val, w_s2)))\n",
    "(np.reshape(val_pred_s2, (1000,1)) == y_val).sum() / len(y_val)"
   ]
  },
  {
   "cell_type": "code",
   "execution_count": 1261,
   "metadata": {},
   "outputs": [
    {
     "data": {
      "image/png": "[encoded data removed]",
      "text/plain": [
       "<Figure size 576x432 with 1 Axes>"
      ]
     },
     "metadata": {
      "needs_background": "light"
     },
     "output_type": "display_data"
    }
   ],
   "source": [
    "plt.figure(figsize=(8,6))\n",
    "plt.plot(np.arange(iters_s), cost_s)\n",
    "plt.xlabel('Number of Iterations')\n",
    "plt.ylabel('Cost')\n",
    "plt.title('''Cost per Iteration for Stochastic Gradient Descent, \n",
    "            Lambda: .01, epsilon: .0001''');"
   ]
  },
  {
   "cell_type": "markdown",
   "metadata": {},
   "source": [
    "We see that while batch gradient descent doesn't bounce around between large positive and \n",
    "negative cost as much as stochastic gradient descent does as you increase the number\n",
    "of iterations, stochastic gradient descent find an optimal w faster."
   ]
  },
  {
   "cell_type": "markdown",
   "metadata": {},
   "source": [
    "\\pagebreak"
   ]
  },
  {
   "cell_type": "markdown",
   "metadata": {},
   "source": [
    "PROBLEM 4.3"
   ]
  },
  {
   "cell_type": "code",
   "execution_count": 1258,
   "metadata": {},
   "outputs": [],
   "source": [
    "def stochastic_gradient_descent_var(X, y, lam, ep):\n",
    "    cost = np.array([])\n",
    "    w = np.zeros(13)\n",
    "    w_old = w\n",
    "    iters = 0\n",
    "    while(True):\n",
    "        for i in np.arange(len(X)):\n",
    "            pt = np.random.randint(len(X))\n",
    "            X_pt = X[pt]\n",
    "            y_pt = y[pt]\n",
    "            w = w-ep*(2*lam*w-((y_pt-special.expit(np.dot(X_pt.T, w)))*X_pt))\n",
    "            Xw = np.dot(X, w)\n",
    "            y_1 = np.dot(-y.T, -np.log(1 + np.e**-Xw))\n",
    "            y_2 = np.dot((1-y).T, -Xw - np.log(1 + np.e**-Xw))\n",
    "            iter_cost = lam * np.linalg.norm(w) - (y_1 + y_2)\n",
    "            cost = np.append(cost, iter_cost)\n",
    "            iters += 1\n",
    "            if iters % 1000 == 0:\n",
    "                ep = ep/(iters)\n",
    "                delta_w = w - w_old\n",
    "                if all(abs(val) < .001 for val in delta_w):\n",
    "                    return w, cost, iters\n",
    "                w_old = w"
   ]
  },
  {
   "cell_type": "markdown",
   "metadata": {},
   "source": [
    "Same as stochastic gradient descent, but I decreased epsilon once every 1000 iterations\n",
    "and chose to do this because otherwise it decreased too significantly for w to optimize."
   ]
  },
  {
   "cell_type": "markdown",
   "metadata": {},
   "source": [
    "Exeriment to see if epsilon value still optimal:"
   ]
  },
  {
   "cell_type": "code",
   "execution_count": 1268,
   "metadata": {},
   "outputs": [
    {
     "data": {
      "text/plain": [
       "0.9348"
      ]
     },
     "execution_count": 1268,
     "metadata": {},
     "output_type": "execute_result"
    }
   ],
   "source": [
    "w_sv,cost_sv,iters_sv = stochastic_gradient_descent_var(X_train,y_train,.01,.001)\n",
    "pred_sv = np.round(special.expit(np.dot(X_train, w_sv)))\n",
    "training_error_sv = (np.reshape(pred_sv,(5000,1))==y_train).sum()/len(y_train)\n",
    "training_error_sv"
   ]
  },
  {
   "cell_type": "code",
   "execution_count": 1269,
   "metadata": {},
   "outputs": [
    {
     "data": {
      "text/plain": [
       "0.922"
      ]
     },
     "execution_count": 1269,
     "metadata": {},
     "output_type": "execute_result"
    }
   ],
   "source": [
    "val_pred_sv = np.round(special.expit(np.dot(X_val, w_sv)))\n",
    "(np.reshape(val_pred_sv, (1000,1)) == y_val).sum() / len(y_val)"
   ]
  },
  {
   "cell_type": "code",
   "execution_count": 1264,
   "metadata": {},
   "outputs": [
    {
     "data": {
      "text/plain": [
       "0.9086"
      ]
     },
     "execution_count": 1264,
     "metadata": {},
     "output_type": "execute_result"
    }
   ],
   "source": [
    "w_sv2,cost_sv2,iters_sv2=stochastic_gradient_descent_var(X_train,y_train,.01,.0001)\n",
    "pred_sv2 = np.round(special.expit(np.dot(X_train, w_sv2)))\n",
    "training_error_sv2 = (np.reshape(pred_sv2,(5000,1))==y_train).sum()/len(y_train)\n",
    "training_error_sv2"
   ]
  },
  {
   "cell_type": "code",
   "execution_count": 1270,
   "metadata": {},
   "outputs": [
    {
     "data": {
      "image/png": "[encoded data removed]",
      "text/plain": [
       "<Figure size 576x432 with 1 Axes>"
      ]
     },
     "metadata": {
      "needs_background": "light"
     },
     "output_type": "display_data"
    }
   ],
   "source": [
    "plt.figure(figsize=(8,6))\n",
    "plt.plot(np.arange(iters_sv), cost_sv)\n",
    "plt.xlabel('Number of Iterations')\n",
    "plt.ylabel('Cost')\n",
    "plt.title('''Cost per Iteration for Stochastic Gradient Descent,\n",
    "            Decreasing Epsilon,\n",
    "            Lambda: .01, epsilon: .001''');"
   ]
  },
  {
   "cell_type": "markdown",
   "metadata": {},
   "source": [
    "Yes, this strategy is better than having a constant epsilon because it reduces the step size\n",
    "as w becomes more optimized in order to converge to the minimum significantly faster."
   ]
  },
  {
   "cell_type": "markdown",
   "metadata": {},
   "source": [
    "\\pagebreak"
   ]
  },
  {
   "cell_type": "markdown",
   "metadata": {},
   "source": [
    "PROBLEM 4.4"
   ]
  },
  {
   "cell_type": "code",
   "execution_count": 1235,
   "metadata": {},
   "outputs": [
    {
     "data": {
      "text/plain": [
       "0.9705"
      ]
     },
     "execution_count": 1235,
     "metadata": {},
     "output_type": "execute_result"
    }
   ],
   "source": [
    "w_f, cost_f, iters_f = gradient_descent(X_matrix, wine['y'], .01, 1e-6)\n",
    "pred_f = np.round(special.expit(np.dot(X_matrix, w_f)))\n",
    "training_error_f = (pred_f == wine['y']).sum() / len(wine['y'])\n",
    "training_error_f"
   ]
  },
  {
   "cell_type": "code",
   "execution_count": 1247,
   "metadata": {},
   "outputs": [],
   "source": [
    "test_pred = np.reshape(np.round(special.expit(np.dot(X_test, w_f))), (497,))"
   ]
  },
  {
   "cell_type": "code",
   "execution_count": 1248,
   "metadata": {},
   "outputs": [],
   "source": [
    "def results_to_csv(y_test):\n",
    "    y_test = y_test.astype(int)\n",
    "    df = pd.DataFrame({'Category': y_test})\n",
    "    df.index += 1  # Ensures that the index starts at 1. \n",
    "    df.to_csv('submission.csv', index_label='Id')"
   ]
  },
  {
   "cell_type": "code",
   "execution_count": 1249,
   "metadata": {},
   "outputs": [],
   "source": [
    "results_to_csv(test_pred)"
   ]
  },
  {
   "cell_type": "markdown",
   "metadata": {},
   "source": [
    "My kaggle username is ayee and my best score was .95302. I used batch gradient descent with lambda of\n",
    ".01 and epsilon of 1e-6 for my submission because it was the best training/validation error \n",
    "I got in all my testing."
   ]
  },
  {
   "cell_type": "code",
   "execution_count": null,
   "metadata": {},
   "outputs": [],
   "source": []
  }
 ],
 "metadata": {
  "kernelspec": {
   "display_name": "Python 3",
   "language": "python",
   "name": "python3"
  },
  "language_info": {
   "codemirror_mode": {
    "name": "ipython",
    "version": 3
   },
   "file_extension": ".py",
   "mimetype": "text/x-python",
   "name": "python",
   "nbconvert_exporter": "python",
   "pygments_lexer": "ipython3",
   "version": "3.7.1"
  }
 },
 "nbformat": 4,
 "nbformat_minor": 2
}
